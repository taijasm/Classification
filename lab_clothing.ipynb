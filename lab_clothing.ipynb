{
  "metadata": {
    "kernelspec": {
      "display_name": "Python 3", 
      "name": "python3", 
      "language": "python"
    }, 
    "language_info": {
      "mimetype": "text/x-python", 
      "nbconvert_exporter": "python", 
      "name": "python", 
      "file_extension": ".py", 
      "version": "3.6.8", 
      "pygments_lexer": "ipython3", 
      "codemirror_mode": {
        "version": 3, 
        "name": "ipython"
      }
    }
  }, 
  "nbformat": 4, 
  "nbformat_minor": 2, 
  "cells": [
    {
      "source": [
        "# Are you mad enough to sell more clothes?"
      ], 
      "cell_type": "markdown", 
      "metadata": {}
    }, 
    {
      "source": [
        "<img src=\"http://www.tabletmag.com/wp-content/files_mf/menken620.jpg\"/>"
      ], 
      "cell_type": "markdown", 
      "metadata": {}
    }, 
    {
      "execution_count": 5, 
      "cell_type": "code", 
      "source": [
        "%matplotlib inline\n", 
        "import numpy as np\n", 
        "import scipy as sp\n", 
        "import matplotlib as mpl\n", 
        "import matplotlib.cm as cm\n", 
        "import matplotlib.pyplot as plt\n", 
        "import pandas as pd\n", 
        "\n", 
        "import seaborn.apionly as sns\n", 
        "sns.set_style(\"whitegrid\")\n", 
        "sns.set_context(\"poster\")"
      ], 
      "outputs": [], 
      "metadata": {
        "collapsed": true
      }
    }, 
    {
      "execution_count": 22, 
      "cell_type": "code", 
      "source": [
        "from sklearn.model_selection import GridSearchCV\n", 
        "from sklearn.model_selection import train_test_split\n", 
        "from sklearn.metrics import confusion_matrix\n", 
        "def cv_optimize(clf, parameters, X, y, n_jobs=1, n_folds=5, score_func=None):\n", 
        "    if score_func:\n", 
        "        gs = GridSearchCV(clf, param_grid=parameters, cv=n_folds, n_jobs=n_jobs, scoring=score_func)\n", 
        "    else:\n", 
        "        gs = GridSearchCV(clf, param_grid=parameters, n_jobs=n_jobs, cv=n_folds)\n", 
        "    gs.fit(X, y)\n", 
        "    print(\"BEST\", gs.best_params_, gs.best_score_)\n", 
        "    best = gs.best_estimator_\n", 
        "    return best\n", 
        "def do_classify(clf, parameters, indf, featurenames, targetname, target1val,mode=\"mask\", reuse_split=None, score_func=None, n_folds=5, n_jobs=1):\n", 
        "    \"\"\"\n", 
        "    Classification made simple (or is it more complex?)\n", 
        "    THIS WORKS FOR 2 Class Classification problems only\n", 
        "    parameters: parameter grid in the sklearn style\n", 
        "    indf: dataframe you feed in\n", 
        "    featurenames: list of columnames corresponding to features you want in your model\n", 
        "    targetname: the column you want to use as target\n", 
        "    target1val: the value of the \"targetname\" column\n", 
        "    mode: mask or split. mask a boolean mask to choose train/test or\n", 
        "        split a dictionary with keys Xtrain/Xtest/ytrain/ytest and values existing\n", 
        "        training and test sets in the canonical form\n", 
        "    reuse_split: the actual mask above or the actuall ditionary, depending upon which\n", 
        "        modu you chose\n", 
        "    score_func: this is from GridSearchCV\n", 
        "    n_folds: cross val folds\n", 
        "    n_jobs: mumber of processes to use in cross-validation\n", 
        "    \n", 
        "    We return classifier, and the train and test sets. We print accuracies\n", 
        "    and the confusion matrix\n", 
        "    \"\"\"\n", 
        "    subdf=indf[featurenames]\n", 
        "    X=subdf.values\n", 
        "    y=(indf[targetname].values==target1val)*1\n", 
        "    if mode==\"mask\":\n", 
        "        print(\"using mask\")\n", 
        "        mask=reuse_split\n", 
        "        Xtrain, Xtest, ytrain, ytest = X[mask], X[~mask], y[mask], y[~mask]\n", 
        "    else:\n", 
        "        print(\"using reuse split\")\n", 
        "        Xtrain, Xtest, ytrain, ytest = reuse_split['Xtrain'], reuse_split['Xtest'], reuse_split['ytrain'], reuse_split['ytest']\n", 
        "    if parameters:\n", 
        "        clf = cv_optimize(clf, parameters, Xtrain, ytrain, n_jobs=n_jobs, n_folds=n_folds, score_func=score_func)\n", 
        "    clf=clf.fit(Xtrain, ytrain)\n", 
        "    training_accuracy = clf.score(Xtrain, ytrain)\n", 
        "    test_accuracy = clf.score(Xtest, ytest)\n", 
        "    print(\"############# based on standard predict ################\")\n", 
        "    print(\"Accuracy on training data: %0.2f\" % (training_accuracy))\n", 
        "    print(\"Accuracy on test data:     %0.2f\" % (test_accuracy))\n", 
        "    print(confusion_matrix(ytest, clf.predict(Xtest)))\n", 
        "    print(\"########################################################\")\n", 
        "    return clf, Xtrain, ytrain, Xtest, ytest"
      ], 
      "outputs": [], 
      "metadata": {}
    }, 
    {
      "source": [
        "The data set is from a fairly high end clothing chain store in the North East.\n", 
        "\n", 
        "You are a data analyst for this store. Your job is to write a report to the pointy-haired boss in which you show how you can increase the store's profit by being targeted about whom to send a catalog in the mail. Yes, you are in direct marketing. You are a quant amongst the \"mad men\". \n", 
        "\n", 
        "You need to explore and layout in simple terms, what the business needs to spend to increase its profit. In other words, you need a budget, and its your job to figure out how much as well.\n", 
        "\n", 
        "We'll guide you through the process. There is much more you can explore, of-course, but this homework will walk you through an entire real world classification and analysis process with a finite amount of work and computer runtime.\n", 
        "\n", 
        "You will\n", 
        "\n", 
        "1. clean the data, and create some features, learning about how to standardize the data\n", 
        "2. write a classifier on this data, including cross validation, and learn to write a function to encapsulate this process\n", 
        "3. learn how to compare this classifier to baseline classifiers that you better beat using a profit metric rather than an accuracy metric\n", 
        "4. understand and use prediction thresholds\n", 
        "5. understand the use a ROC curve, especially in the situation where probability thresholds are not possible\n", 
        "6. learn to use a profit curve to pick a model, thus directly reflecting the metric of importance\n", 
        "7. learn a bit about feature selection, and why we need to pipeline feature selection and classification together, in an attempt to improve a classifier\n", 
        "8. balance a data set to improve the performance of a SVM classifier\n", 
        "9. implement a kernelized SVM to improve performance further.\n", 
        "10. make a final comparison of classifiers and make a presentation for your boss.\n", 
        "\n", 
        "This homework is long because we are walking you through the entire process, start early! There are some parts of it that can be solved by understanding, copying, and slightly modifying code from the lab.  Feel free to do that. Pay attention to any difference in signature in the lab functions to the ones here.\n", 
        "\n", 
        "The idea for this homework, and the attendant data set is taken from the book \"Data Mining Methods and Models\" by [Larose](http://www.dataminingconsultant.com/DMMM.htm). Henceforth we refer to this book as DMMM. There is an analysis of the data set there as well (ch7, the book is available online through our library), which you might be interested in. It is far more detailed than this homework, talking about log-normal data transformations, amongst other things.\n", 
        "\n", 
        "(Image credit: www.tabletmag.com)"
      ], 
      "cell_type": "markdown", 
      "metadata": {}
    }, 
    {
      "source": [
        "(This documentation of the fields is taken verbatim from DMMM).\n", 
        "\n", 
        "The clothing-store data set contains information about 28,799 customers in the following 51 fields:\n", 
        "\n", 
        "- Customer ID: unique, encrypted customer identification `HHKEY`\n", 
        "- Zip code `ZIP_CODE`\n", 
        "- Number of purchase visits `FRE`\n", 
        "- Total net sales `MON`\n", 
        "- Average amount spent per visit `AVRG`\n", 
        "- Amount spent at each of four different franchises (four variables) `AMSPEND`, `PSSPEND`, `CCSPEND`, `AXSPEND`\n", 
        "- Amount spent in the past month, the past three months, and the past six months `OMONSPEND`, `TMONSPEND`, `SMONSPEND`\n", 
        "- Amount spent the same period last year `PREVPD`\n", 
        "- Gross margin percentage `GMP`\n", 
        "- Number of marketing promotions on file `PROMOS`\n", 
        "- Number of days the customer has been on file `DAYS`\n", 
        "- Number of days between purchases `FREDAYS`\n", 
        "- Markdown percentage on customer purchases `MARKDOWN`\n", 
        "- Number of different product classes purchased `CLASSES`\n", 
        "- Number of coupons used by the customer `COUPONS`\n", 
        "- Total number of individual items purchased by the customer `STYLES`\n", 
        "- Number of stores the customer shopped at `STORES`\n", 
        "- Number of promotions mailed in the past year `MAILED`\n", 
        "- Number of promotions responded to in the past year `RESPONDED`\n", 
        "- Promotion response rate for the past year `RESPONSERATE`\n", 
        "- Product uniformity (low score = diverse spending patterns) `HI`\n", 
        "- Lifetime average time between visits `LTFREDAYS`\n", 
        "- Microvision lifestyle cluster type `CLUSTYPE`\n", 
        "- Percent of returns `PERCRET`\n", 
        "- Flag: credit card user `CC_CARD`\n", 
        "- Flag: valid phone number on file `VALPHON`\n", 
        "- Flag: Web shopper `WEB`\n", 
        "- 15 variables providing the percentages spent by the customer on specific classes of clothing, including sweaters, knit tops, knit dresses, blouses, jackets, career pants, casual pants, shirts, dresses, suits, outerwear, jewelry, fashion, legwear, and the collectibles line; (`P*`, `PJACKETS` for example) also a variable showing the brand of choice (encrypted)\n", 
        "- **Target variable**: response to promotion `RESP`...this is our **response** or **y**.\n", 
        "\n", 
        "\n", 
        "These data are based on a direct mail marketing campaign conducted last year. We want to use this information to develop classification models for this year\u2019s marketing campaign."
      ], 
      "cell_type": "markdown", 
      "metadata": {}
    }, 
    {
      "source": [
        "## Features and a simple classifier"
      ], 
      "cell_type": "markdown", 
      "metadata": {}
    }, 
    {
      "source": [
        "### Get, check, clean,  the data"
      ], 
      "cell_type": "markdown", 
      "metadata": {}
    }, 
    {
      "execution_count": 7, 
      "cell_type": "code", 
      "source": [
        "df=pd.read_csv(\"./data/Clothing_Store.csv\")\n", 
        "df.head()"
      ], 
      "outputs": [], 
      "metadata": {
        "collapsed": false
      }
    }, 
    {
      "execution_count": 8, 
      "cell_type": "code", 
      "source": [
        "df.shape"
      ], 
      "outputs": [], 
      "metadata": {
        "collapsed": false
      }
    }, 
    {
      "source": [
        "We'll delete some columns we dont intend to use, and which I couldnt quite figure out what they were from the original data set and documentation."
      ], 
      "cell_type": "markdown", 
      "metadata": {}
    }, 
    {
      "execution_count": 9, 
      "cell_type": "code", 
      "source": [
        "del df['CLUSTYPE']\n", 
        "del df['HHKEY'], df['ZIP_CODE'], df['REC'], df['PC_CALC20'] \n", 
        "del df['STORELOY']"
      ], 
      "outputs": [], 
      "metadata": {
        "collapsed": false
      }
    }, 
    {
      "execution_count": 10, 
      "cell_type": "code", 
      "source": [
        "df.columns"
      ], 
      "outputs": [], 
      "metadata": {
        "collapsed": false
      }
    }, 
    {
      "source": [
        "Make a copy of the dataframe to make transformations to."
      ], 
      "cell_type": "markdown", 
      "metadata": {}
    }, 
    {
      "execution_count": 11, 
      "cell_type": "code", 
      "source": [
        "dftouse=df.copy()"
      ], 
      "outputs": [], 
      "metadata": {
        "collapsed": true
      }
    }, 
    {
      "source": [
        "### Feature Engineering"
      ], 
      "cell_type": "markdown", 
      "metadata": {}
    }, 
    {
      "source": [
        "Feature Engineering is one of the most important \"human inputs\" that go into machine learning. Machines can run algorithms, but if you feed in garbage, you will get out garbage. The features that are important, or the feature combinations that might be useful in a problem, are inputs that humans can use to help the machine along. Domain knowledge is particularly useful. \n", 
        "\n", 
        "We first list the columns that are percentages:"
      ], 
      "cell_type": "markdown", 
      "metadata": {}
    }, 
    {
      "execution_count": 12, 
      "cell_type": "code", 
      "source": [
        "PERCENT_VARS=[ u'PSWEATERS', u'PKNIT_TOPS', u'PKNIT_DRES', u'PBLOUSES', u'PJACKETS', u'PCAR_PNTS', u'PCAS_PNTS', u'PSHIRTS', \n", 
        "              u'PDRESSES', u'PSUITS', u'POUTERWEAR', u'PJEWELRY', u'PFASHION', u'PLEGWEAR', u'PCOLLSPND']\n", 
        "len(PERCENT_VARS)"
      ], 
      "outputs": [], 
      "metadata": {
        "collapsed": false
      }
    }, 
    {
      "source": [
        "Next, we look for columns where the existence or lack thereof of a zero may be important in a classifier. We used our intuition to make these choices, believing that there is additional information encoded in say, `PERCRET`: if you never returned anything you might not be a budget shopper and thus someone who might have the money to shop quite a bit..."
      ], 
      "cell_type": "markdown", 
      "metadata": {}
    }, 
    {
      "execution_count": 13, 
      "cell_type": "code", 
      "source": [
        "ZERO_IMPORTANT_VARS = [u'PREVPD', u'AMSPEND', u'PSSPEND', u'CCSPEND', u'AXSPEND', u'RESPONDED', u'PERCRET']"
      ], 
      "outputs": [], 
      "metadata": {
        "collapsed": true
      }
    }, 
    {
      "source": [
        "We also list the columns with floating-point or integer variables that are amenable to standardization"
      ], 
      "cell_type": "markdown", 
      "metadata": {}
    }, 
    {
      "execution_count": 14, 
      "cell_type": "code", 
      "source": [
        "STANDARDIZABLE = PERCENT_VARS + ZERO_IMPORTANT_VARS + [u'FRE', u'MON',  u'AVRG', u'GMP', u'PROMOS', u'DAYS', u'FREDAYS', u'MARKDOWN', u'CLASSES', u'COUPONS', u'STYLES',  u'MAILED',  u'RESPONSERATE', u'HI', u'LTFREDAY']"
      ], 
      "outputs": [], 
      "metadata": {
        "collapsed": true
      }
    }, 
    {
      "source": [
        "Now, an **indicator variable** is one which takes a few, usually 2 values (1/0, True/False) to code the existence or lack thereof of a property or feature. We look for existing indicators:"
      ], 
      "cell_type": "markdown", 
      "metadata": {}
    }, 
    {
      "execution_count": 15, 
      "cell_type": "code", 
      "source": [
        "for v in df.columns:\n", 
        "    l=df[v].unique()\n", 
        "    if len(l) <= 10:\n", 
        "        print(v, l)"
      ], 
      "outputs": [], 
      "metadata": {
        "collapsed": false
      }
    }, 
    {
      "source": [
        "#### Zero important indicators"
      ], 
      "cell_type": "markdown", 
      "metadata": {}
    }, 
    {
      "source": [
        "We encode VALPHON, PERCENT_VARS, and ZERO_IMPORTANT_VARS as indicators. By doing this we are saying: the fact that these features are non-zero carries additional importance as compared to their values.\n", 
        "\n", 
        "We maintain a global list INDICATORS in which the names of these columns are stored, prepending an `i_` to each of these variables to denote that they are indicators.\n", 
        "\n", 
        "Note that all changes are now being made to the `dftouse` dataframe."
      ], 
      "cell_type": "markdown", 
      "metadata": {}
    }, 
    {
      "execution_count": 16, 
      "cell_type": "code", 
      "source": [
        "# rename some indicators and make them all 1-0\n", 
        "dftouse['i_VALPHON']=(df.VALPHON=='Y')*1\n", 
        "del dftouse['VALPHON']\n", 
        "dftouse.rename(columns={'WEB':'i_WEB', 'CC_CARD':'i_CC_CARD'}, inplace=True)\n", 
        "INDICATORS=['i_VALPHON','i_WEB','i_CC_CARD']"
      ], 
      "outputs": [], 
      "metadata": {
        "collapsed": false
      }
    }, 
    {
      "source": [
        "We then take the `ZERO_IMPORTANT_VARS`, the ones we thought where presence or absence was important, and create indicators from them"
      ], 
      "cell_type": "markdown", 
      "metadata": {}
    }, 
    {
      "execution_count": 17, 
      "cell_type": "code", 
      "source": [
        "for p in ZERO_IMPORTANT_VARS:\n", 
        "    dftouse['i_'+p]=(df[p] > 0.0)*1\n", 
        "    INDICATORS.append('i_'+p)"
      ], 
      "outputs": [], 
      "metadata": {
        "collapsed": false
      }
    }, 
    {
      "source": [
        "And then we create indicators for each of the percent variables `PERCENT_VARS` (following Larose's ch7), in the hope that the presence or absence of buying a particular clothing style such as blouses makes a difference..."
      ], 
      "cell_type": "markdown", 
      "metadata": {}
    }, 
    {
      "execution_count": 18, 
      "cell_type": "code", 
      "source": [
        "for p in PERCENT_VARS:\n", 
        "    dftouse['i_'+p]=(df[p] > 0.0)*1\n", 
        "    INDICATORS.append('i_'+p)"
      ], 
      "outputs": [], 
      "metadata": {
        "collapsed": true
      }
    }, 
    {
      "source": [
        "#### Combine some features "
      ], 
      "cell_type": "markdown", 
      "metadata": {}
    }, 
    {
      "source": [
        "We do this to communicate clearly information about recentness and savings\n", 
        "\n", 
        "We add two more indicators corresponding to recent spending, and recent use of a savings mechanism."
      ], 
      "cell_type": "markdown", 
      "metadata": {}
    }, 
    {
      "execution_count": 19, 
      "cell_type": "code", 
      "source": [
        "#create recent usage (1 month and 3 month),  sale-shopper (markdown+coupon)\n", 
        "dftouse[\"i_RECENT\"]=1*((df.OMONSPEND > 0) | (df.TMONSPEND > 0))\n", 
        "dftouse[\"i_SAVER\"]=1*((df.MARKDOWN > 0) | (df.COUPONS > 0))\n", 
        "INDICATORS.append(\"i_RECENT\")\n", 
        "INDICATORS.append(\"i_SAVER\")"
      ], 
      "outputs": [], 
      "metadata": {
        "collapsed": false
      }
    }, 
    {
      "source": [
        "Lets see what we now have..."
      ], 
      "cell_type": "markdown", 
      "metadata": {}
    }, 
    {
      "execution_count": 20, 
      "cell_type": "code", 
      "source": [
        "dftouse.head()"
      ], 
      "outputs": [], 
      "metadata": {
        "collapsed": false
      }
    }, 
    {
      "execution_count": 21, 
      "cell_type": "code", 
      "source": [
        "dftouse.shape"
      ], 
      "outputs": [], 
      "metadata": {
        "collapsed": false
      }
    }, 
    {
      "source": [
        "Clearly we've currently expanded the number of features we have in an attempt to pit in information in the form of indicators which communicate additional distinguishing (in our opinion)."
      ], 
      "cell_type": "markdown", 
      "metadata": {}
    }, 
    {
      "source": [
        "### Test and Training Sets, and Standardization"
      ], 
      "cell_type": "markdown", 
      "metadata": {}
    }, 
    {
      "source": [
        "We standardize test and training sets separately. Specifically, we wish to standardize the non-indicator columns on both the test and training sets, by subtracting out the mean of the training set from the value, and dividing by the standard deviation of the training set. This helps us put all the continuous variables on the same scale.\n", 
        "\n", 
        "(There is another reason this might be useful. One optimization which we dont do in this homework but which is useful is to take the log of all positive continuous variables. This makes data look more \"normal\" which can be useful in some algorithms, and then such standardization can basically be thought of in units of standard deviations of the normal distribution)"
      ], 
      "cell_type": "markdown", 
      "metadata": {}
    }, 
    {
      "source": [
        "#### Why do we do this standardization on the two sets separately?"
      ], 
      "cell_type": "markdown", 
      "metadata": {}
    }, 
    {
      "source": [
        "Hint: what happens to the purity of the training data if we standardize using the entire dataset?"
      ], 
      "cell_type": "markdown", 
      "metadata": {}
    }, 
    {
      "source": [
        "*your answer here*\n"
      ], 
      "cell_type": "markdown", 
      "metadata": {}
    }, 
    {
      "source": [
        "We'll split the dataset and create a training and test mask."
      ], 
      "cell_type": "markdown", 
      "metadata": {}
    }, 
    {
      "execution_count": 24, 
      "cell_type": "code", 
      "source": [
        "from sklearn.model_selection import train_test_split\n", 
        "itrain, itest = train_test_split(range(dftouse.shape[0]), train_size=0.7)"
      ], 
      "outputs": [], 
      "metadata": {
        "collapsed": true
      }
    }, 
    {
      "execution_count": 25, 
      "cell_type": "code", 
      "source": [
        "mask=np.ones(dftouse.shape[0], dtype='int')\n", 
        "mask[itrain]=1\n", 
        "mask[itest]=0\n", 
        "mask = (mask==1)"
      ], 
      "outputs": [], 
      "metadata": {
        "collapsed": false
      }
    }, 
    {
      "execution_count": 26, 
      "cell_type": "code", 
      "source": [
        "mask"
      ], 
      "outputs": [], 
      "metadata": {
        "collapsed": false
      }
    }, 
    {
      "execution_count": 27, 
      "cell_type": "code", 
      "source": [
        "mask.shape, mask.sum()"
      ], 
      "outputs": [], 
      "metadata": {
        "collapsed": false
      }
    }, 
    {
      "execution_count": 28, 
      "cell_type": "code", 
      "source": [
        "dftrain = df[mask]\n", 
        "dftest = df[~mask]"
      ], 
      "outputs": [], 
      "metadata": {}
    }, 
    {
      "source": [
        "#### Standardize the data"
      ], 
      "cell_type": "markdown", 
      "metadata": {}
    }, 
    {
      "source": [
        "Use `StandardScaler` from `sklearn.preprocessing` to \"fit\" the columns in `STANDRARDIZABLE` on the training set. Then use the resultant estimator to transform both the training and the test parts of each of the columns in the dataframe, replacing the old unstandardized values in the `STANDARDIZABLE` columns of `dftouse` by the new standardized ones."
      ], 
      "cell_type": "markdown", 
      "metadata": {}
    }, 
    {
      "execution_count": 29, 
      "cell_type": "code", 
      "source": [
        "from sklearn.preprocessing import StandardScaler\n"
      ], 
      "outputs": [], 
      "metadata": {
        "collapsed": false
      }
    }, 
    {
      "execution_count": 31, 
      "cell_type": "code", 
      "source": [
        "#your code here\n"
      ], 
      "outputs": [], 
      "metadata": {}
    }, 
    {
      "execution_count": 32, 
      "cell_type": "code", 
      "source": [
        "dftouse.loc[mask, STANDARDIZABLE] = outtrain\n", 
        "dftouse.loc[~mask, STANDARDIZABLE] = outtest"
      ], 
      "outputs": [], 
      "metadata": {}
    }, 
    {
      "source": [
        "We create a list `lcols` of the columns we will use in our classifier. This list should not contain the response `RESP`. How many features do we have?"
      ], 
      "cell_type": "markdown", 
      "metadata": {}
    }, 
    {
      "execution_count": 33, 
      "cell_type": "code", 
      "source": [
        "lcols=list(dftouse.columns)\n", 
        "lcols.remove(u'RESP')\n", 
        "len(lcols)"
      ], 
      "outputs": [], 
      "metadata": {
        "collapsed": false
      }
    }, 
    {
      "source": [
        "### Writing code for a classifier"
      ], 
      "cell_type": "markdown", 
      "metadata": {}
    }, 
    {
      "source": [
        "We will now take this data and write a classifier to predict the response, which is in the `RESP` column of `dftouse`. This response corresponds to asking the question: will a user targeted with our advertisement respond or not?"
      ], 
      "cell_type": "markdown", 
      "metadata": {}
    }, 
    {
      "source": [
        "#### 1.4 Train a Logistic Regression on this data."
      ], 
      "cell_type": "markdown", 
      "metadata": {}
    }, 
    {
      "execution_count": 34, 
      "cell_type": "code", 
      "source": [
        "from sklearn.linear_model import LogisticRegression"
      ], 
      "outputs": [], 
      "metadata": {
        "collapsed": true
      }
    }, 
    {
      "execution_count": 39, 
      "cell_type": "code", 
      "source": [
        "params = {\"C\": [0.0001, 0.001, 0.01, 0.1, 1.0, 10.0, 100.0]}\n", 
        "clf, Xtrain, ytrain, Xtest, ytest = do_classify(LogisticRegression(solver=\"liblinear\"), params, dftouse,lcols, u'RESP',1,  mode=\"mask\", reuse_split=mask)"
      ], 
      "outputs": [], 
      "metadata": {
        "collapsed": false
      }
    }, 
    {
      "execution_count": 40, 
      "cell_type": "code", 
      "source": [
        "reuse_split=dict(Xtrain=Xtrain, Xtest=Xtest, ytrain=ytrain, ytest=ytest)"
      ], 
      "outputs": [], 
      "metadata": {
        "collapsed": true
      }
    }, 
    {
      "execution_count": 43, 
      "cell_type": "code", 
      "source": [
        "import pickle\n", 
        "with open('reuse_split.pkl', 'wb') as handle:\n", 
        "    pickle.dump(reuse_split, handle)"
      ], 
      "outputs": [], 
      "metadata": {}
    }, 
    {
      "source": [
        "## Estimate costs and benefits from assumptions and data"
      ], 
      "cell_type": "markdown", 
      "metadata": {}
    }, 
    {
      "source": [
        "### Our data is highly asymmetric"
      ], 
      "cell_type": "markdown", 
      "metadata": {}
    }, 
    {
      "source": [
        "First notice that our data set is very highly asymmetric, with positive `RESP`onses only making up 16-17% of the samples."
      ], 
      "cell_type": "markdown", 
      "metadata": {}
    }, 
    {
      "execution_count": 63, 
      "cell_type": "code", 
      "source": [
        "print(\"whole data set\", dftouse['RESP'].mean())#Highly asymmetric\n", 
        "print(\"training set\", dftouse['RESP'][mask].mean(), \"test set\", dftouse['RESP'][~mask].mean())"
      ], 
      "outputs": [], 
      "metadata": {
        "collapsed": false
      }
    }, 
    {
      "source": [
        "This means that a classifier which predicts that EVERY customer is a negative has an accuracy rate of 83-84%. By this we mean that **a classifier that predicts that no customer will respond to our mailing** has an accuracy of 83-84%!"
      ], 
      "cell_type": "markdown", 
      "metadata": {}
    }, 
    {
      "source": [
        "#### Compare the accuracy of the Logisic Regression to the no-customer-responds baseline"
      ], 
      "cell_type": "markdown", 
      "metadata": {}
    }, 
    {
      "source": [
        "Based on your comparison, and using accuracy as a metric, does the classifier seem worthwhile pursuing?"
      ], 
      "cell_type": "markdown", 
      "metadata": {}
    }, 
    {
      "source": [
        "*your answer here*\n"
      ], 
      "cell_type": "markdown", 
      "metadata": {}
    }, 
    {
      "source": [
        "But we havent asked the most important question. Is accuracy really the relevant metric?"
      ], 
      "cell_type": "markdown", 
      "metadata": {}
    }, 
    {
      "source": [
        "### Costs and the Confusion Matrix"
      ], 
      "cell_type": "markdown", 
      "metadata": {}
    }, 
    {
      "source": [
        "Our classifier above had, as one of its printed outputs, a confusion matrix. It looked like this:"
      ], 
      "cell_type": "markdown", 
      "metadata": {}
    }, 
    {
      "execution_count": 64, 
      "cell_type": "code", 
      "source": [
        "ypred=clf.predict(Xtest)\n", 
        "confusion_matrix(ytest, ypred)"
      ], 
      "outputs": [], 
      "metadata": {
        "collapsed": false
      }
    }, 
    {
      "source": [
        "The matrix above is of this form:\n", 
        "\n", 
        "![hwimages](./images/confusionmatrix.png)\n", 
        "\n", 
        "\n", 
        "**Important note**: In sklearn, to obtain the confusion matrix in the form above, always have the observed `y` first, i.e.: use as `confusion_matrix(y_true, y_pred)`"
      ], 
      "cell_type": "markdown", 
      "metadata": {}
    }, 
    {
      "source": [
        "In our example, +ives (those with a 1 `RESP`onse) are people who respond to the mailing by going into the store and buying goods. These are also called observed positives (OP). And -ives (those with a 0 `RESP`onse) are those who do not respond to the mailing. These are also called observed Negatives. On our test set, we can print the observed positives and observed negatives respectively:"
      ], 
      "cell_type": "markdown", 
      "metadata": {}
    }, 
    {
      "execution_count": 65, 
      "cell_type": "code", 
      "source": [
        "print(\"OP=\", ytest.sum(), \", ON=\",ytest.shape[0] - ytest.sum())"
      ], 
      "outputs": [], 
      "metadata": {
        "collapsed": false
      }
    }, 
    {
      "source": [
        "We can make a similar calculation on the predictions of our LR classifier made on the test set. This gives us the predicted negatives (PN): those customers who we predict will not respond to our mailing; and the predicted positives (PP), the customers who we predict will respond to our mailing by coming into the store to buy stuff."
      ], 
      "cell_type": "markdown", 
      "metadata": {}
    }, 
    {
      "execution_count": 66, 
      "cell_type": "code", 
      "source": [
        "print(\"PP=\", ypred.sum(), \", PN=\",ytest.shape[0] - ypred.sum())"
      ], 
      "outputs": [], 
      "metadata": {
        "collapsed": false
      }
    }, 
    {
      "source": [
        "In addition to these four quantities, the confusion matrix gives us more details on proper classifications and mis-classifications from our classifier:\n", 
        "\n", 
        "- the samples that are +ive and the classifier predicts as +ive are called True Positives (TP). These are folks we correctly identified as responders,and thus sending them a mailing would result in a sale for us. True Positives are great. We do incur the cost of mailing them, but we like to because they will come into the store to buy.\n", 
        "- the samples that are -ive and the classifier predicts (wrongly) as +ive are called False Positives (FP). False Positives incur us the cost of mailing them as well, but are not very costly. These are people who wouldnt have responded, but we sent them a mailing because our classifier mispredicted them as buyers. Thus, for them, we only incur the cost of preparing the mailing and mailing it to them.\n", 
        "- the samples that are -ive and the classifier predicts as -ive are called True Negatives (TN). These are folks we correctly identified as not-responding, and thus we dont waste any money on sending them a mailing. This is a great classification for us.\n", 
        "- the samples that are +ive and the classifier predicts as -ive are called False Negatives (FN). False negatives are VERY costly: these are folks who would have responded to us had we mailed them, but we didnt target them, leading to huge lost sales per person. Notice that our SVM classifier has tons of False Negatives\n", 
        "\n", 
        "It is not enough to simply identify these categories from the confusion matrix. Rather, we want to sit down with our business team and identify the costs associated with each of the 4 classification situations above. Keep in mind that these costs might even change from year to year or even more suddenly: this is why it is important to have marketing and sales people on your data science teams. (See Patil, D. J. Building data science teams. \" O'Reilly Media, Inc.\", 2011.\n", 
        " for more details).\n", 
        " \n", 
        " Fortunately you have talked to your domain experts and done just that!"
      ], 
      "cell_type": "markdown", 
      "metadata": {}
    }, 
    {
      "source": [
        "#### Costs for True Positives, False Negatives, False Positives, and True Negatives"
      ], 
      "cell_type": "markdown", 
      "metadata": {}
    }, 
    {
      "source": [
        "Lets categorize the costs for each one of these alternatives."
      ], 
      "cell_type": "markdown", 
      "metadata": {}
    }, 
    {
      "source": [
        "Lets assume the amortized cost of preparing a mailing and mailing it is \\$3. Lets assume additionally that the profit margin on a sale is 30% (we are a high end clothing chain)."
      ], 
      "cell_type": "markdown", 
      "metadata": {}
    }, 
    {
      "source": [
        "True Negatives cost us nothing but gain us nothing either."
      ], 
      "cell_type": "markdown", 
      "metadata": {}
    }, 
    {
      "execution_count": 67, 
      "cell_type": "code", 
      "source": [
        "tnc=0.0 #tnr stands for \"true negative cost\""
      ], 
      "outputs": [], 
      "metadata": {
        "collapsed": true
      }
    }, 
    {
      "source": [
        "From the average cost of a sale, and the 30% profit assumption, we calculate `tpc`, the cost of a true positive. Note: `tpc` must be negative, since we are talking about costs.\n", 
        "\n", 
        "The `tpc` takes into account the cost of mailing to the respondent, and since our mailing works, we subtract out the profit. We use the average of the `AVRG` column, which is the average money spent by a customer on each visit."
      ], 
      "cell_type": "markdown", 
      "metadata": {}
    }, 
    {
      "execution_count": 68, 
      "cell_type": "code", 
      "source": [
        "prep_and_mail=3\n", 
        "profit_margin=0.3\n", 
        "tpc=prep_and_mail - df.AVRG.mean()*profit_margin \n", 
        "tpc"
      ], 
      "outputs": [], 
      "metadata": {
        "collapsed": false
      }
    }, 
    {
      "source": [
        "The false negative is a lost sale for us! We didnt mail them, and they didnt spend the money. They would have if we mailed them. So we lost a certain profit per such false negative! Thus the false-negative cost, given by `fnc`, is:"
      ], 
      "cell_type": "markdown", 
      "metadata": {}
    }, 
    {
      "execution_count": 69, 
      "cell_type": "code", 
      "source": [
        "fnc = df.AVRG.mean()*profit_margin\n", 
        "fnc"
      ], 
      "outputs": [], 
      "metadata": {
        "collapsed": false
      }
    }, 
    {
      "source": [
        "This leaves us with False positives. This is a person who would not have responded but you wasted $3 on. So the false positive cost, (`fpc`) is:"
      ], 
      "cell_type": "markdown", 
      "metadata": {}
    }, 
    {
      "execution_count": 70, 
      "cell_type": "code", 
      "source": [
        "fpc=prep_and_mail\n", 
        "fpc"
      ], 
      "outputs": [], 
      "metadata": {
        "collapsed": false
      }
    }, 
    {
      "source": [
        "#### Cost  and Utility Matrix"
      ], 
      "cell_type": "markdown", 
      "metadata": {}
    }, 
    {
      "source": [
        "We then use these costs to write a **risk or cost matrix** in the same form as the confusion matrix above. \n", 
        "\n", 
        "![cost matrix](images/costmatrix.png)"
      ], 
      "cell_type": "markdown", 
      "metadata": {}
    }, 
    {
      "execution_count": 71, 
      "cell_type": "code", 
      "source": [
        "risk_matrix=np.array([[tnc, fpc],[fnc, tpc]])\n", 
        "risk_matrix"
      ], 
      "outputs": [], 
      "metadata": {
        "collapsed": false
      }
    }, 
    {
      "source": [
        "Notice that the cost of a false positive is 11 times less than the cost of a false negative. As is often the case in situations in which one class dominates the other, the costs of one kind of misclassification: false negatives are differently expensive than false positives. We saw above that FN are more costly in our case than FP. Similar situations arise in cancer prediction, for example, where a FP only means that you diagnosed a healthy person with cancer, but a FN means that you misdiagnosed a cancer patient as healthy: possibly killing them in the process!\n", 
        "\n", 
        "The negative of the cost matrix is called the **utility matrix or profit matrix** `u`. Here we calculate this utility matrix, which we shall use in the next part of the homework."
      ], 
      "cell_type": "markdown", 
      "metadata": {}
    }, 
    {
      "execution_count": 72, 
      "cell_type": "code", 
      "source": [
        "u = - risk_matrix\n", 
        "u"
      ], 
      "outputs": [], 
      "metadata": {
        "collapsed": false
      }
    }, 
    {
      "source": [
        "Ok! Now we can use this profit matrix to calculate the profit that the SVM classifier can land us. "
      ], 
      "cell_type": "markdown", 
      "metadata": {}
    }, 
    {
      "source": [
        "#### Average Profit Per Person"
      ], 
      "cell_type": "markdown", 
      "metadata": {}
    }, 
    {
      "source": [
        "We can compute the average profit per person using the following formula, which calculates the \"expected value\" of the per-customer profit (the $P$ below stands for \"predicted\" and $O$ for observed):\n", 
        "\n", 
        "\n", 
        "\n", 
        "\\begin{eqnarray}\n", 
        "Profit &=& u(+P,+O) \\times p(+P,+O) \\\\\n", 
        "       &+& u(+P,-O) \\times p(+P,-O) \\\\\n", 
        "       &+& u(-P,+O) \\times p(-P,+O) \\\\\n", 
        "       &+& u(-P,-O) \\times p(-P,-O) \n", 
        "\\end{eqnarray}\n", 
        "\n", 
        "\n", 
        "which gives\n", 
        "\n", 
        "\n", 
        "$$ Profit =  \\frac{( TP \\times -TPC )+ ( FP \\times -FPC ) + ( FN \\times -FNC ) + ( TN \\times -TNC )}{N}$$\n", 
        "\n", 
        "where N is the total size of the test set, +P means predicted positive, -O is observed negative, and so on and so forth. The formula above just weighs the profit of a combination of observed and predicted with the out-of-sample probability of the combination occurring. The probabilities are \"estimated\" by the corresponding confusion matrix on the **test set**, which leads to the second formula. $-TPC$ is just the 'true positive' utility (similar for the others...).\n", 
        "\n", 
        "The profit can thus be found by multiplying the utility matrix by the confusion matrix elementwise, and dividing by the sum of the elements in the confusion matrix, or the test set size.\n", 
        "\n", 
        "We implement this process of finding the average profit per person in the `average_profit_pp` function below:"
      ], 
      "cell_type": "markdown", 
      "metadata": {}
    }, 
    {
      "execution_count": 74, 
      "cell_type": "code", 
      "source": [
        "def average_profit_pp(y, ypred, u):\n", 
        "    c=confusion_matrix(y,ypred)\n", 
        "    score=np.sum(c*u)/np.sum(c)\n", 
        "    return score"
      ], 
      "outputs": [], 
      "metadata": {
        "collapsed": true
      }
    }, 
    {
      "source": [
        "But before we make this calculation for our logistic classifier, we need to first check what profit or cost our baseline classifier which assumes that no customer will respond, incurs."
      ], 
      "cell_type": "markdown", 
      "metadata": {}
    }, 
    {
      "source": [
        "### Establishing Baseline Classifiers via profit"
      ], 
      "cell_type": "markdown", 
      "metadata": {}
    }, 
    {
      "source": [
        "The simplest classifiers you can think of are the \"send to everyone\" and \"dont send to everyone\" classifiers. We explain these below. If we are going to write any more complex classifiers we should at-least outperform these."
      ], 
      "cell_type": "markdown", 
      "metadata": {}
    }, 
    {
      "source": [
        "#### Dont Send to Anyone Baseline Classifier "
      ], 
      "cell_type": "markdown", 
      "metadata": {}
    }, 
    {
      "source": [
        "This is the \"majority\" classifier we talked about earlier. We dont send mailings to anyone because we believe that **no-one will respond**. Thus this classifier predicts everyone to be a 0 or -ive, a non-respondent. Remember, this classifier has a 83-84% accuracy.\n", 
        "\n", 
        "We write a confusion matrix `dste` for the \"dont send to everyone\" model (not the best acronym, I know!), and calculate the average profit per person as `dsteval`. "
      ], 
      "cell_type": "markdown", 
      "metadata": {}
    }, 
    {
      "execution_count": 75, 
      "cell_type": "code", 
      "source": [
        "testsize = dftouse[~mask].shape[0]\n", 
        "ypred_dste = np.zeros(testsize, dtype=\"int\")\n", 
        "print(confusion_matrix(ytest, ypred_dste))\n", 
        "dsteval=average_profit_pp(ytest, ypred_dste, u)\n", 
        "dsteval"
      ], 
      "outputs": [], 
      "metadata": {
        "collapsed": false
      }
    }, 
    {
      "source": [
        "#### For this baseline classifier question, explain the value we got."
      ], 
      "cell_type": "markdown", 
      "metadata": {}
    }, 
    {
      "source": [
        "*your answer here*\n"
      ], 
      "cell_type": "markdown", 
      "metadata": {}
    }, 
    {
      "source": [
        "#### Send to Everyone Baseline Classifier"
      ], 
      "cell_type": "markdown", 
      "metadata": {}
    }, 
    {
      "source": [
        "This is the other extreme. In this case we **predict everyone as responders** and send the mailing to everyone. In other words, we predict everyone on the test set to be a 1. Print out both the confusion matrix and `steval`, the average profit per person, for this case. Based on this result, which one of these two classifiers is the one to beat? Why?"
      ], 
      "cell_type": "markdown", 
      "metadata": {}
    }, 
    {
      "execution_count": 76, 
      "cell_type": "code", 
      "source": [
        "#your code here\n"
      ], 
      "outputs": [], 
      "metadata": {
        "collapsed": false
      }
    }, 
    {
      "source": [
        "*your answer here*\n"
      ], 
      "cell_type": "markdown", 
      "metadata": {}
    }, 
    {
      "source": [
        "#### Compare the Logistic Regression classifier with these baselines"
      ], 
      "cell_type": "markdown", 
      "metadata": {}
    }, 
    {
      "source": [
        "Using the  classifier we calculated, `clflog`, calculate the profit we can make"
      ], 
      "cell_type": "markdown", 
      "metadata": {}
    }, 
    {
      "execution_count": 77, 
      "cell_type": "code", 
      "source": [
        "#your code here\n"
      ], 
      "outputs": [], 
      "metadata": {
        "collapsed": false
      }
    }, 
    {
      "source": [
        "If you did this correctly, at this point you might be a bit dejected...."
      ], 
      "cell_type": "markdown", 
      "metadata": {}
    }, 
    {
      "source": [
        "### Implement logistic regression with Lasso based feature selection"
      ], 
      "cell_type": "markdown", 
      "metadata": {}
    }, 
    {
      "source": [
        "We run another classifier, a logistic regression with L1 regularization, using the `do_classify` function we defined above. L1 or Lasso regularization automatically does feature selection for us!"
      ], 
      "cell_type": "markdown", 
      "metadata": {}
    }, 
    {
      "source": [
        "Return as the estimator `clflog`, and training and test sets `Xtrain`, `ytrain`, `Xtest`, and `ytest`. Let the regularization hyperparameter `C` range in powers of 10 from 0.001 to 100. Use the `reuse_split` dictionary we calculated earlier. Remember that we want to use \"L1\" or Lasso regularization: you can do this by passing `penalty=\"l1\"` to the Logistic Regression: `LogisticRegression(penalty=\"l1\")`."
      ], 
      "cell_type": "markdown", 
      "metadata": {}
    }, 
    {
      "execution_count": 78, 
      "cell_type": "code", 
      "source": [
        "#your code here\n"
      ], 
      "outputs": [], 
      "metadata": {
        "collapsed": false
      }
    }, 
    {
      "source": [
        "Calculate the profit that this classifier gives us:"
      ], 
      "cell_type": "markdown", 
      "metadata": {}
    }, 
    {
      "execution_count": 79, 
      "cell_type": "code", 
      "source": [
        "#your code here\n"
      ], 
      "outputs": [], 
      "metadata": {
        "collapsed": false
      }
    }, 
    {
      "source": [
        "### Prediction and Re-prediction"
      ], 
      "cell_type": "markdown", 
      "metadata": {}
    }, 
    {
      "source": [
        "In the case of such asymmetric costs, the `sklearn` API function `predict` is useless, as it assumes a threshold probability of having a +ive sample to be 0.5; that is, if a sample has a greater than 0.5 chance of being a 1, assume it is so. Clearly, when FN are more expensive than FP, you want to lower this threshold: you are ok with falsely classifying -ive examples as +ive. See Lab 5 for how this can be done.\n", 
        "\n", 
        "You can think about this very starkly from the perspective of the cancer doctor. Do you really want to be setting a threshold of 0.5 probability to predict if a patient has cancer or not? The false negative problem: ie the chance you predict someone dosent have cancer who has cancer is much higher for such a threshold. You could kill someone by telling them not to get a biopsy. Why not play it safe and assume a much lower threshold: for eg, if the probability of 1(cancer) is greater than 0.05, we'll call it a 1.\n", 
        "\n", 
        "Let us do this for our logistic regression example"
      ], 
      "cell_type": "markdown", 
      "metadata": {}
    }, 
    {
      "source": [
        "#### Start with an arbitrary threshold t, and see how we fare at different thresholds for logistic regression"
      ], 
      "cell_type": "markdown", 
      "metadata": {}
    }, 
    {
      "execution_count": 80, 
      "cell_type": "code", 
      "source": [
        "# your code here\n"
      ], 
      "outputs": [], 
      "metadata": {
        "collapsed": true
      }
    }, 
    {
      "source": [
        "We see average profits for multiple thresholds for the logistic regression classifier `clflog`. "
      ], 
      "cell_type": "markdown", 
      "metadata": {}
    }, 
    {
      "source": [
        "**(a) Average profit per person for t=0.5 (the usual case)**"
      ], 
      "cell_type": "markdown", 
      "metadata": {}
    }, 
    {
      "execution_count": 81, 
      "cell_type": "code", 
      "source": [
        "average_profit_pp(ytest,clflog.predict(Xtest), u)"
      ], 
      "outputs": [], 
      "metadata": {
        "collapsed": false
      }
    }, 
    {
      "source": [
        "**(b) Confusion Matrix and average profit per person for t=0.05**"
      ], 
      "cell_type": "markdown", 
      "metadata": {}
    }, 
    {
      "execution_count": 82, 
      "cell_type": "code", 
      "source": [
        "confusion_matrix(ytest,t_repredict(clflog, 0.05, Xtest))"
      ], 
      "outputs": [], 
      "metadata": {
        "collapsed": false
      }
    }, 
    {
      "execution_count": 83, 
      "cell_type": "code", 
      "source": [
        "average_profit_pp(ytest, t_repredict(clflog, 0.05, Xtest), u)"
      ], 
      "outputs": [], 
      "metadata": {
        "collapsed": false
      }
    }, 
    {
      "source": [
        "**(c) average profit per person for t=0.95**"
      ], 
      "cell_type": "markdown", 
      "metadata": {}
    }, 
    {
      "execution_count": 84, 
      "cell_type": "code", 
      "source": [
        "average_profit_pp(ytest, t_repredict(clflog, 0.95, Xtest), u)"
      ], 
      "outputs": [], 
      "metadata": {
        "collapsed": false
      }
    }, 
    {
      "source": [
        "Voila, at a 0.05 threshold we have a nice positive profit! (if you did this right...)\n", 
        "\n", 
        "We see that in this situation, where we have asymmetric costs (1:15), we do need to change the threshold at which we make our positive and negative predictions. We need to change the threshold so that we much dislike false nefatives (same in the cancer case). Thus we must accept many more false positives by setting such a low threshold.\n", 
        "\n", 
        "For otherwise, we let too many people slip through our hands who would have otherwise shopped at our store. Once we change the threshold, we can make a profit. And indeed, at $t=0.05$, our profit is higher than in the \"Send to Everyone\" case, which makes doing the classifier worth it! But how do we pick this threshold?"
      ], 
      "cell_type": "markdown", 
      "metadata": {}
    }, 
    {
      "source": [
        "### Feature Selection"
      ], 
      "cell_type": "markdown", 
      "metadata": {}
    }, 
    {
      "source": [
        "The Lasso, for example, implements internally, a form of feature selection by setting many coefficients to zero. Let us find coefficients that are non-zero."
      ], 
      "cell_type": "markdown", 
      "metadata": {}
    }, 
    {
      "source": [
        "#### Non zero lasso features"
      ], 
      "cell_type": "markdown", 
      "metadata": {}
    }, 
    {
      "source": [
        "We write a function `nonzero_lasso` which takes the fit classifier `clfloglasso` as an argument, and spits out a dataframe of coefficients, sorted by the absolute magnitude of the coefficients. This way we can see which features dominated the logistic regression."
      ], 
      "cell_type": "markdown", 
      "metadata": {}
    }, 
    {
      "execution_count": 85, 
      "cell_type": "code", 
      "source": [
        "def nonzero_lasso(clf):\n", 
        "    featuremask=(clf.coef_ !=0.0)[0]\n", 
        "    return pd.DataFrame(dict(feature=lcols, coef=clf.coef_[0], abscoef=np.abs(clf.coef_[0])))[featuremask].sort_values('abscoef', ascending=False)"
      ], 
      "outputs": [], 
      "metadata": {
        "collapsed": false
      }
    }, 
    {
      "execution_count": 86, 
      "cell_type": "code", 
      "source": [
        "lasso_importances=nonzero_lasso(clflog)\n", 
        "lasso_importances.set_index(\"feature\", inplace=True)\n", 
        "lasso_importances"
      ], 
      "outputs": [], 
      "metadata": {
        "collapsed": false
      }
    }, 
    {
      "source": [
        "#### Feature importance using correlations"
      ], 
      "cell_type": "markdown", 
      "metadata": {}
    }, 
    {
      "source": [
        "We can also get a notion of which features are important in the classification process by seeing how they correlate with the response. Implement some code to obtain the Pearson correlation coefficient between each of our features and the response. Do this on the training set only! Create a dataframe indexed by the features, which has columns `abscorr` the absolute value of the correlation and `corr` the value of the correlation. Sort the dataframe by `abscorr`, highest first, and show the top 25 features with the highest absolute correlation. Is there much overlap with the feature selection performed by the LASSO?"
      ], 
      "cell_type": "markdown", 
      "metadata": {}
    }, 
    {
      "execution_count": 88, 
      "cell_type": "code", 
      "source": [
        "from scipy.stats.stats import pearsonr\n", 
        "correlations=[]\n", 
        "dftousetrain=dftouse[mask]\n", 
        "for col in lcols:\n", 
        "    r=pearsonr(dftousetrain[col], dftousetrain['RESP'])[0]\n", 
        "    correlations.append(dict(feature=col,corr=r, abscorr=np.abs(r)))\n", 
        "\n", 
        "bpdf=pd.DataFrame(correlations).sort_values('abscorr', ascending=False)\n", 
        "bpdf.set_index(['feature'], inplace=True)\n", 
        "bpdf.head(25)"
      ], 
      "outputs": [], 
      "metadata": {
        "collapsed": false
      }
    }, 
    {
      "source": [
        "*your answer here*\n"
      ], 
      "cell_type": "markdown", 
      "metadata": {}
    }, 
    {
      "source": [
        "#### Why Feature Select?"
      ], 
      "cell_type": "markdown", 
      "metadata": {}
    }, 
    {
      "source": [
        "One of the reasons feature selection is done, automatically or otherwise, is that there might be strong correlations between features. Also recall polynomial regression: a large number of features can lead to overfitting. Feature selection helps curb the problem of the curse of dimensionality, where centrality measures often used in statistics go wonky at higher dimensions. Between feature-engineering which we did some of, earlier, and feature selection, is where a lot of smarts and domain knowledge comes in. You will gain this with experience."
      ], 
      "cell_type": "markdown", 
      "metadata": {}
    }, 
    {
      "source": [
        "## Exercises\n", 
        "\n", 
        "1. Redo the Logistic regression using `f1-score` as the scoring metric rather than accuracy. Call the model \"logistic-f1\".\n", 
        "2. Make ROC curves for both models."
      ], 
      "cell_type": "markdown", 
      "metadata": {}
    }
  ]
}