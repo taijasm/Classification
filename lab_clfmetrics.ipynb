{
 "cells": [
  {
   "cell_type": "markdown",
   "metadata": {},
   "source": [
    "# Classification, Probabilities, and the Confusion Matrix"
   ]
  },
  {
   "cell_type": "code",
   "execution_count": 1,
   "metadata": {
    "collapsed": true
   },
   "outputs": [
    {
     "name": "stderr",
     "output_type": "stream",
     "text": [
      "C:\\Users\\taija\\Anaconda3\\lib\\site-packages\\seaborn\\apionly.py:6: UserWarning: As seaborn no longer sets a default style on import, the seaborn.apionly module is deprecated. It will be removed in a future version.\n",
      "  warnings.warn(msg, UserWarning)\n"
     ]
    }
   ],
   "source": [
    "%matplotlib inline\n",
    "import numpy as np\n",
    "import scipy as sp\n",
    "import matplotlib as mpl\n",
    "import matplotlib.cm as cm\n",
    "import matplotlib.pyplot as plt\n",
    "import pandas as pd\n",
    "import seaborn.apionly as sns"
   ]
  },
  {
   "cell_type": "markdown",
   "metadata": {},
   "source": [
    "We are going to encapsulate some code into handy-dandy functions that we can use for easier model training using cross-validation"
   ]
  },
  {
   "cell_type": "code",
   "execution_count": 2,
   "metadata": {
    "collapsed": true
   },
   "outputs": [],
   "source": [
    "from sklearn.model_selection import GridSearchCV\n",
    "from sklearn.model_selection import train_test_split\n",
    "from sklearn.metrics import confusion_matrix\n",
    "def cv_optimize(clf, parameters, X, y, n_jobs=1, n_folds=5, score_func=None):\n",
    "    if score_func:\n",
    "        gs = GridSearchCV(clf, param_grid=parameters, cv=n_folds, n_jobs=n_jobs, scoring=score_func)\n",
    "    else:\n",
    "        gs = GridSearchCV(clf, param_grid=parameters, n_jobs=n_jobs, cv=n_folds)\n",
    "    gs.fit(X, y)\n",
    "    print(\"BEST\", gs.best_params_, gs.best_score_)\n",
    "    best = gs.best_estimator_\n",
    "    return best\n",
    "def do_classify(clf, parameters, indf, featurenames, targetname, target1val,mode=\"mask\", reuse_split=None, score_func=None, n_folds=5, n_jobs=1):\n",
    "    \"\"\"\n",
    "    Classification made simple (or is it more complex?)\n",
    "    THIS WORKS FOR 2 Class Classification problems only\n",
    "    parameters: parameter grid in the sklearn style\n",
    "    indf: dataframe you feed in\n",
    "    featurenames: list of columnames corresponding to features you want in your model\n",
    "    targetname: the column you want to use as target\n",
    "    target1val: the value of the \"targetname\" column\n",
    "    mode: mask or split. mask a boolean mask to choose train/test or\n",
    "        split a dictionary with keys Xtrain/Xtest/ytrain/ytest and values existing\n",
    "        training and test sets in the canonical form\n",
    "    reuse_split: the actual mask above or the actuall ditionary, depending upon which\n",
    "        modu you chose\n",
    "    score_func: this is from GridSearchCV\n",
    "    n_folds: cross val folds\n",
    "    n_jobs: mumber of processes to use in cross-validation\n",
    "    \n",
    "    We return classifier, and the train and test sets. We print accuracies\n",
    "    and the confusion matrix\n",
    "    \"\"\"\n",
    "    subdf=indf[featurenames]\n",
    "    X=subdf.values\n",
    "    y=(indf[targetname].values==target1val)*1\n",
    "    if mode==\"mask\":\n",
    "        print(\"using mask\")\n",
    "        mask=reuse_split\n",
    "        Xtrain, Xtest, ytrain, ytest = X[mask], X[~mask], y[mask], y[~mask]\n",
    "    else:\n",
    "        print(\"using reuse split\")\n",
    "        Xtrain, Xtest, ytrain, ytest = reuse_split['Xtrain'], reuse_split['Xtest'], reuse_split['ytrain'], reuse_split['ytest']\n",
    "    if parameters:\n",
    "        clf = cv_optimize(clf, parameters, Xtrain, ytrain, n_jobs=n_jobs, n_folds=n_folds, score_func=score_func)\n",
    "    clf=clf.fit(Xtrain, ytrain)\n",
    "    training_accuracy = clf.score(Xtrain, ytrain)\n",
    "    test_accuracy = clf.score(Xtest, ytest)\n",
    "    print(\"############# based on standard predict ################\")\n",
    "    print(\"Accuracy on training data: %0.2f\" % (training_accuracy))\n",
    "    print(\"Accuracy on test data:     %0.2f\" % (test_accuracy))\n",
    "    print(confusion_matrix(ytest, clf.predict(Xtest)))\n",
    "    print(\"########################################################\")\n",
    "    return clf, Xtrain, ytrain, Xtest, ytest"
   ]
  },
  {
   "cell_type": "code",
   "execution_count": 3,
   "metadata": {
    "collapsed": true
   },
   "outputs": [],
   "source": [
    "from matplotlib.colors import ListedColormap\n",
    "cmap_light = ListedColormap(['#FFAAAA', '#AAFFAA', '#AAAAFF'])\n",
    "cmap_bold = ListedColormap(['#FF0000', '#00FF00', '#0000FF'])\n",
    "cm = plt.cm.RdBu\n",
    "cm_bright = ListedColormap(['#FF0000', '#0000FF'])\n",
    "\n",
    "def points_plot(ax, Xtr, Xte, ytr, yte, clf, mesh=True, colorscale=cmap_light, cdiscrete=cmap_bold, alpha=0.3, psize=10, zfunc=False):\n",
    "    h = .02\n",
    "    X=np.concatenate((Xtr, Xte))\n",
    "    x_min, x_max = X[:, 0].min() - .5, X[:, 0].max() + .5\n",
    "    y_min, y_max = X[:, 1].min() - .5, X[:, 1].max() + .5\n",
    "    xx, yy = np.meshgrid(np.linspace(x_min, x_max, 100),\n",
    "                         np.linspace(y_min, y_max, 100))\n",
    "\n",
    "    #plt.figure(figsize=(10,6))\n",
    "    if mesh:\n",
    "        if zfunc:\n",
    "            p0 = clf.predict_proba(np.c_[xx.ravel(), yy.ravel()])[:, 0]\n",
    "            p1 = clf.predict_proba(np.c_[xx.ravel(), yy.ravel()])[:, 1]\n",
    "            Z=zfunc(p0, p1)\n",
    "        else:\n",
    "            Z = clf.predict(np.c_[xx.ravel(), yy.ravel()])\n",
    "        Z = Z.reshape(xx.shape)\n",
    "        plt.pcolormesh(xx, yy, Z, cmap=cmap_light, alpha=alpha, axes=ax)\n",
    "    ax.scatter(Xtr[:, 0], Xtr[:, 1], c=ytr-1, cmap=cmap_bold, s=psize, alpha=alpha,edgecolor=\"k\")\n",
    "    # and testing points\n",
    "    yact=clf.predict(Xte)\n",
    "    ax.scatter(Xte[:, 0], Xte[:, 1], c=yte-1, cmap=cmap_bold, alpha=alpha, marker=\"s\", s=psize+10)\n",
    "    ax.set_xlim(xx.min(), xx.max())\n",
    "    ax.set_ylim(yy.min(), yy.max())\n",
    "    return ax,xx,yy"
   ]
  },
  {
   "cell_type": "code",
   "execution_count": 4,
   "metadata": {
    "collapsed": true
   },
   "outputs": [],
   "source": [
    "def points_plot_prob(ax, Xtr, Xte, ytr, yte, clf, colorscale=cmap_light, cdiscrete=cmap_bold, ccolor=cm, psize=10, alpha=0.1, prob=True):\n",
    "    ax,xx,yy = points_plot(ax, Xtr, Xte, ytr, yte, clf, mesh=False, colorscale=colorscale, cdiscrete=cdiscrete, psize=psize, alpha=alpha) \n",
    "    if prob:\n",
    "        Z = clf.predict_proba(np.c_[xx.ravel(), yy.ravel()])[:, 1]\n",
    "    else:\n",
    "        Z = clf.decision_function(np.c_[xx.ravel(), yy.ravel()])\n",
    "    Z = Z.reshape(xx.shape)\n",
    "    plt.contourf(xx, yy, Z, cmap=ccolor, alpha=.2, axes=ax)\n",
    "    cs2 = plt.contour(xx, yy, Z, cmap=ccolor, alpha=.6, axes=ax)\n",
    "    plt.clabel(cs2, fmt = '%2.1f', colors = 'k', fontsize=14)\n",
    "    return ax "
   ]
  },
  {
   "cell_type": "markdown",
   "metadata": {},
   "source": [
    "## Setting up the data\n",
    "\n",
    "(I encountered this dataset in Conway, Drew, and John White. Machine learning for hackers. \" O'Reilly Media, Inc.\", 2012.)"
   ]
  },
  {
   "cell_type": "code",
   "execution_count": 5,
   "metadata": {
    "collapsed": false
   },
   "outputs": [
    {
     "data": {
      "text/html": [
       "<div>\n",
       "<style scoped>\n",
       "    .dataframe tbody tr th:only-of-type {\n",
       "        vertical-align: middle;\n",
       "    }\n",
       "\n",
       "    .dataframe tbody tr th {\n",
       "        vertical-align: top;\n",
       "    }\n",
       "\n",
       "    .dataframe thead th {\n",
       "        text-align: right;\n",
       "    }\n",
       "</style>\n",
       "<table border=\"1\" class=\"dataframe\">\n",
       "  <thead>\n",
       "    <tr style=\"text-align: right;\">\n",
       "      <th></th>\n",
       "      <th>Gender</th>\n",
       "      <th>Height</th>\n",
       "      <th>Weight</th>\n",
       "    </tr>\n",
       "  </thead>\n",
       "  <tbody>\n",
       "    <tr>\n",
       "      <th>0</th>\n",
       "      <td>Male</td>\n",
       "      <td>73.847017</td>\n",
       "      <td>241.893563</td>\n",
       "    </tr>\n",
       "    <tr>\n",
       "      <th>1</th>\n",
       "      <td>Male</td>\n",
       "      <td>68.781904</td>\n",
       "      <td>162.310473</td>\n",
       "    </tr>\n",
       "    <tr>\n",
       "      <th>2</th>\n",
       "      <td>Male</td>\n",
       "      <td>74.110105</td>\n",
       "      <td>212.740856</td>\n",
       "    </tr>\n",
       "    <tr>\n",
       "      <th>3</th>\n",
       "      <td>Male</td>\n",
       "      <td>71.730978</td>\n",
       "      <td>220.042470</td>\n",
       "    </tr>\n",
       "    <tr>\n",
       "      <th>4</th>\n",
       "      <td>Male</td>\n",
       "      <td>69.881796</td>\n",
       "      <td>206.349801</td>\n",
       "    </tr>\n",
       "  </tbody>\n",
       "</table>\n",
       "</div>"
      ],
      "text/plain": [
       "  Gender     Height      Weight\n",
       "0   Male  73.847017  241.893563\n",
       "1   Male  68.781904  162.310473\n",
       "2   Male  74.110105  212.740856\n",
       "3   Male  71.730978  220.042470\n",
       "4   Male  69.881796  206.349801"
      ]
     },
     "execution_count": 5,
     "metadata": {},
     "output_type": "execute_result"
    }
   ],
   "source": [
    "dfhw=pd.read_csv(\"data/01_heights_weights_genders.csv\")\n",
    "dfhw.head()"
   ]
  },
  {
   "cell_type": "markdown",
   "metadata": {},
   "source": [
    "We sample 500 points from 10,000, since we actually want to see trends clearly on the plots"
   ]
  },
  {
   "cell_type": "code",
   "execution_count": 6,
   "metadata": {
    "collapsed": false
   },
   "outputs": [
    {
     "data": {
      "text/plain": [
       "249"
      ]
     },
     "execution_count": 6,
     "metadata": {},
     "output_type": "execute_result"
    }
   ],
   "source": [
    "df=dfhw.sample(500, replace=False)\n",
    "np.sum(df.Gender==\"Male\")"
   ]
  },
  {
   "cell_type": "markdown",
   "metadata": {},
   "source": [
    "We split the data into training and test sets...and setup a mask so we can reuse these splits later"
   ]
  },
  {
   "cell_type": "code",
   "execution_count": 7,
   "metadata": {
    "collapsed": false
   },
   "outputs": [
    {
     "name": "stderr",
     "output_type": "stream",
     "text": [
      "C:\\Users\\taija\\Anaconda3\\lib\\site-packages\\sklearn\\model_selection\\_split.py:2026: FutureWarning: From version 0.21, test_size will always complement train_size unless both are specified.\n",
      "  FutureWarning)\n"
     ]
    },
    {
     "data": {
      "text/plain": [
       "array([False,  True, False,  True, False,  True,  True,  True, False,\n",
       "       False])"
      ]
     },
     "execution_count": 7,
     "metadata": {},
     "output_type": "execute_result"
    }
   ],
   "source": [
    "itrain, itest = train_test_split(range(df.shape[0]), train_size=0.6)\n",
    "mask=np.ones(df.shape[0], dtype='int')\n",
    "mask[itrain]=1\n",
    "mask[itest]=0\n",
    "mask = (mask==1)\n",
    "mask[:10]"
   ]
  },
  {
   "cell_type": "code",
   "execution_count": 9,
   "metadata": {},
   "outputs": [
    {
     "data": {
      "text/html": [
       "<div>\n",
       "<style scoped>\n",
       "    .dataframe tbody tr th:only-of-type {\n",
       "        vertical-align: middle;\n",
       "    }\n",
       "\n",
       "    .dataframe tbody tr th {\n",
       "        vertical-align: top;\n",
       "    }\n",
       "\n",
       "    .dataframe thead th {\n",
       "        text-align: right;\n",
       "    }\n",
       "</style>\n",
       "<table border=\"1\" class=\"dataframe\">\n",
       "  <thead>\n",
       "    <tr style=\"text-align: right;\">\n",
       "      <th></th>\n",
       "      <th>Gender</th>\n",
       "      <th>Height</th>\n",
       "      <th>Weight</th>\n",
       "    </tr>\n",
       "  </thead>\n",
       "  <tbody>\n",
       "    <tr>\n",
       "      <th>6689</th>\n",
       "      <td>Female</td>\n",
       "      <td>61.890559</td>\n",
       "      <td>110.919688</td>\n",
       "    </tr>\n",
       "    <tr>\n",
       "      <th>669</th>\n",
       "      <td>Male</td>\n",
       "      <td>66.455602</td>\n",
       "      <td>188.974847</td>\n",
       "    </tr>\n",
       "    <tr>\n",
       "      <th>8649</th>\n",
       "      <td>Female</td>\n",
       "      <td>63.495303</td>\n",
       "      <td>141.026405</td>\n",
       "    </tr>\n",
       "    <tr>\n",
       "      <th>5883</th>\n",
       "      <td>Female</td>\n",
       "      <td>59.279654</td>\n",
       "      <td>86.890712</td>\n",
       "    </tr>\n",
       "    <tr>\n",
       "      <th>9323</th>\n",
       "      <td>Female</td>\n",
       "      <td>62.204697</td>\n",
       "      <td>131.783118</td>\n",
       "    </tr>\n",
       "    <tr>\n",
       "      <th>4020</th>\n",
       "      <td>Male</td>\n",
       "      <td>66.343073</td>\n",
       "      <td>171.690125</td>\n",
       "    </tr>\n",
       "    <tr>\n",
       "      <th>4213</th>\n",
       "      <td>Male</td>\n",
       "      <td>67.945183</td>\n",
       "      <td>176.935955</td>\n",
       "    </tr>\n",
       "    <tr>\n",
       "      <th>3499</th>\n",
       "      <td>Male</td>\n",
       "      <td>67.396021</td>\n",
       "      <td>144.277671</td>\n",
       "    </tr>\n",
       "    <tr>\n",
       "      <th>310</th>\n",
       "      <td>Male</td>\n",
       "      <td>74.223063</td>\n",
       "      <td>223.308040</td>\n",
       "    </tr>\n",
       "    <tr>\n",
       "      <th>7367</th>\n",
       "      <td>Female</td>\n",
       "      <td>59.742280</td>\n",
       "      <td>95.933286</td>\n",
       "    </tr>\n",
       "    <tr>\n",
       "      <th>5831</th>\n",
       "      <td>Female</td>\n",
       "      <td>60.771058</td>\n",
       "      <td>109.837386</td>\n",
       "    </tr>\n",
       "    <tr>\n",
       "      <th>8545</th>\n",
       "      <td>Female</td>\n",
       "      <td>64.904695</td>\n",
       "      <td>150.171124</td>\n",
       "    </tr>\n",
       "    <tr>\n",
       "      <th>6575</th>\n",
       "      <td>Female</td>\n",
       "      <td>63.579101</td>\n",
       "      <td>144.055093</td>\n",
       "    </tr>\n",
       "    <tr>\n",
       "      <th>2527</th>\n",
       "      <td>Male</td>\n",
       "      <td>60.269108</td>\n",
       "      <td>126.455613</td>\n",
       "    </tr>\n",
       "    <tr>\n",
       "      <th>4650</th>\n",
       "      <td>Male</td>\n",
       "      <td>73.631336</td>\n",
       "      <td>212.485153</td>\n",
       "    </tr>\n",
       "    <tr>\n",
       "      <th>5560</th>\n",
       "      <td>Female</td>\n",
       "      <td>61.991561</td>\n",
       "      <td>129.321530</td>\n",
       "    </tr>\n",
       "    <tr>\n",
       "      <th>8590</th>\n",
       "      <td>Female</td>\n",
       "      <td>63.486681</td>\n",
       "      <td>129.289830</td>\n",
       "    </tr>\n",
       "    <tr>\n",
       "      <th>3529</th>\n",
       "      <td>Male</td>\n",
       "      <td>70.418957</td>\n",
       "      <td>201.673083</td>\n",
       "    </tr>\n",
       "    <tr>\n",
       "      <th>2365</th>\n",
       "      <td>Male</td>\n",
       "      <td>68.894529</td>\n",
       "      <td>180.691816</td>\n",
       "    </tr>\n",
       "    <tr>\n",
       "      <th>1224</th>\n",
       "      <td>Male</td>\n",
       "      <td>70.476505</td>\n",
       "      <td>197.029179</td>\n",
       "    </tr>\n",
       "    <tr>\n",
       "      <th>7133</th>\n",
       "      <td>Female</td>\n",
       "      <td>65.728580</td>\n",
       "      <td>137.839896</td>\n",
       "    </tr>\n",
       "    <tr>\n",
       "      <th>6324</th>\n",
       "      <td>Female</td>\n",
       "      <td>68.460582</td>\n",
       "      <td>170.106712</td>\n",
       "    </tr>\n",
       "    <tr>\n",
       "      <th>2532</th>\n",
       "      <td>Male</td>\n",
       "      <td>67.516370</td>\n",
       "      <td>173.520053</td>\n",
       "    </tr>\n",
       "    <tr>\n",
       "      <th>3001</th>\n",
       "      <td>Male</td>\n",
       "      <td>68.032908</td>\n",
       "      <td>182.741960</td>\n",
       "    </tr>\n",
       "    <tr>\n",
       "      <th>8444</th>\n",
       "      <td>Female</td>\n",
       "      <td>62.157304</td>\n",
       "      <td>128.958407</td>\n",
       "    </tr>\n",
       "    <tr>\n",
       "      <th>6952</th>\n",
       "      <td>Female</td>\n",
       "      <td>65.096877</td>\n",
       "      <td>142.369715</td>\n",
       "    </tr>\n",
       "    <tr>\n",
       "      <th>4888</th>\n",
       "      <td>Male</td>\n",
       "      <td>71.973693</td>\n",
       "      <td>205.856370</td>\n",
       "    </tr>\n",
       "    <tr>\n",
       "      <th>108</th>\n",
       "      <td>Male</td>\n",
       "      <td>69.182203</td>\n",
       "      <td>171.983678</td>\n",
       "    </tr>\n",
       "    <tr>\n",
       "      <th>6011</th>\n",
       "      <td>Female</td>\n",
       "      <td>66.261527</td>\n",
       "      <td>153.761022</td>\n",
       "    </tr>\n",
       "    <tr>\n",
       "      <th>4704</th>\n",
       "      <td>Male</td>\n",
       "      <td>68.313258</td>\n",
       "      <td>175.226649</td>\n",
       "    </tr>\n",
       "    <tr>\n",
       "      <th>...</th>\n",
       "      <td>...</td>\n",
       "      <td>...</td>\n",
       "      <td>...</td>\n",
       "    </tr>\n",
       "    <tr>\n",
       "      <th>8457</th>\n",
       "      <td>Female</td>\n",
       "      <td>63.825438</td>\n",
       "      <td>134.248057</td>\n",
       "    </tr>\n",
       "    <tr>\n",
       "      <th>6319</th>\n",
       "      <td>Female</td>\n",
       "      <td>64.493943</td>\n",
       "      <td>127.704661</td>\n",
       "    </tr>\n",
       "    <tr>\n",
       "      <th>7077</th>\n",
       "      <td>Female</td>\n",
       "      <td>65.219114</td>\n",
       "      <td>138.569995</td>\n",
       "    </tr>\n",
       "    <tr>\n",
       "      <th>2974</th>\n",
       "      <td>Male</td>\n",
       "      <td>60.267190</td>\n",
       "      <td>132.948179</td>\n",
       "    </tr>\n",
       "    <tr>\n",
       "      <th>6940</th>\n",
       "      <td>Female</td>\n",
       "      <td>62.414768</td>\n",
       "      <td>137.053634</td>\n",
       "    </tr>\n",
       "    <tr>\n",
       "      <th>6094</th>\n",
       "      <td>Female</td>\n",
       "      <td>63.957309</td>\n",
       "      <td>127.444970</td>\n",
       "    </tr>\n",
       "    <tr>\n",
       "      <th>660</th>\n",
       "      <td>Male</td>\n",
       "      <td>68.465724</td>\n",
       "      <td>188.079276</td>\n",
       "    </tr>\n",
       "    <tr>\n",
       "      <th>3524</th>\n",
       "      <td>Male</td>\n",
       "      <td>66.145868</td>\n",
       "      <td>202.130274</td>\n",
       "    </tr>\n",
       "    <tr>\n",
       "      <th>7358</th>\n",
       "      <td>Female</td>\n",
       "      <td>67.679872</td>\n",
       "      <td>175.012800</td>\n",
       "    </tr>\n",
       "    <tr>\n",
       "      <th>8963</th>\n",
       "      <td>Female</td>\n",
       "      <td>64.334788</td>\n",
       "      <td>161.746797</td>\n",
       "    </tr>\n",
       "    <tr>\n",
       "      <th>8624</th>\n",
       "      <td>Female</td>\n",
       "      <td>67.520343</td>\n",
       "      <td>158.209688</td>\n",
       "    </tr>\n",
       "    <tr>\n",
       "      <th>2479</th>\n",
       "      <td>Male</td>\n",
       "      <td>72.372066</td>\n",
       "      <td>199.376235</td>\n",
       "    </tr>\n",
       "    <tr>\n",
       "      <th>2785</th>\n",
       "      <td>Male</td>\n",
       "      <td>67.143510</td>\n",
       "      <td>165.143924</td>\n",
       "    </tr>\n",
       "    <tr>\n",
       "      <th>1302</th>\n",
       "      <td>Male</td>\n",
       "      <td>70.984071</td>\n",
       "      <td>192.111320</td>\n",
       "    </tr>\n",
       "    <tr>\n",
       "      <th>1630</th>\n",
       "      <td>Male</td>\n",
       "      <td>71.471387</td>\n",
       "      <td>192.929107</td>\n",
       "    </tr>\n",
       "    <tr>\n",
       "      <th>1819</th>\n",
       "      <td>Male</td>\n",
       "      <td>72.337569</td>\n",
       "      <td>216.713478</td>\n",
       "    </tr>\n",
       "    <tr>\n",
       "      <th>1167</th>\n",
       "      <td>Male</td>\n",
       "      <td>72.300308</td>\n",
       "      <td>194.723253</td>\n",
       "    </tr>\n",
       "    <tr>\n",
       "      <th>6750</th>\n",
       "      <td>Female</td>\n",
       "      <td>63.924728</td>\n",
       "      <td>139.653461</td>\n",
       "    </tr>\n",
       "    <tr>\n",
       "      <th>6830</th>\n",
       "      <td>Female</td>\n",
       "      <td>60.398516</td>\n",
       "      <td>126.983077</td>\n",
       "    </tr>\n",
       "    <tr>\n",
       "      <th>7370</th>\n",
       "      <td>Female</td>\n",
       "      <td>64.633795</td>\n",
       "      <td>138.146125</td>\n",
       "    </tr>\n",
       "    <tr>\n",
       "      <th>7012</th>\n",
       "      <td>Female</td>\n",
       "      <td>61.844966</td>\n",
       "      <td>110.981626</td>\n",
       "    </tr>\n",
       "    <tr>\n",
       "      <th>9798</th>\n",
       "      <td>Female</td>\n",
       "      <td>62.743478</td>\n",
       "      <td>138.557942</td>\n",
       "    </tr>\n",
       "    <tr>\n",
       "      <th>9090</th>\n",
       "      <td>Female</td>\n",
       "      <td>62.309015</td>\n",
       "      <td>134.097307</td>\n",
       "    </tr>\n",
       "    <tr>\n",
       "      <th>640</th>\n",
       "      <td>Male</td>\n",
       "      <td>70.862688</td>\n",
       "      <td>209.759114</td>\n",
       "    </tr>\n",
       "    <tr>\n",
       "      <th>2258</th>\n",
       "      <td>Male</td>\n",
       "      <td>68.536583</td>\n",
       "      <td>181.295256</td>\n",
       "    </tr>\n",
       "    <tr>\n",
       "      <th>3240</th>\n",
       "      <td>Male</td>\n",
       "      <td>66.811802</td>\n",
       "      <td>179.537042</td>\n",
       "    </tr>\n",
       "    <tr>\n",
       "      <th>5768</th>\n",
       "      <td>Female</td>\n",
       "      <td>62.183982</td>\n",
       "      <td>131.659119</td>\n",
       "    </tr>\n",
       "    <tr>\n",
       "      <th>229</th>\n",
       "      <td>Male</td>\n",
       "      <td>71.848435</td>\n",
       "      <td>218.157469</td>\n",
       "    </tr>\n",
       "    <tr>\n",
       "      <th>8070</th>\n",
       "      <td>Female</td>\n",
       "      <td>65.061414</td>\n",
       "      <td>131.588929</td>\n",
       "    </tr>\n",
       "    <tr>\n",
       "      <th>5819</th>\n",
       "      <td>Female</td>\n",
       "      <td>62.803233</td>\n",
       "      <td>126.010566</td>\n",
       "    </tr>\n",
       "  </tbody>\n",
       "</table>\n",
       "<p>300 rows × 3 columns</p>\n",
       "</div>"
      ],
      "text/plain": [
       "      Gender     Height      Weight\n",
       "6689  Female  61.890559  110.919688\n",
       "669     Male  66.455602  188.974847\n",
       "8649  Female  63.495303  141.026405\n",
       "5883  Female  59.279654   86.890712\n",
       "9323  Female  62.204697  131.783118\n",
       "4020    Male  66.343073  171.690125\n",
       "4213    Male  67.945183  176.935955\n",
       "3499    Male  67.396021  144.277671\n",
       "310     Male  74.223063  223.308040\n",
       "7367  Female  59.742280   95.933286\n",
       "5831  Female  60.771058  109.837386\n",
       "8545  Female  64.904695  150.171124\n",
       "6575  Female  63.579101  144.055093\n",
       "2527    Male  60.269108  126.455613\n",
       "4650    Male  73.631336  212.485153\n",
       "5560  Female  61.991561  129.321530\n",
       "8590  Female  63.486681  129.289830\n",
       "3529    Male  70.418957  201.673083\n",
       "2365    Male  68.894529  180.691816\n",
       "1224    Male  70.476505  197.029179\n",
       "7133  Female  65.728580  137.839896\n",
       "6324  Female  68.460582  170.106712\n",
       "2532    Male  67.516370  173.520053\n",
       "3001    Male  68.032908  182.741960\n",
       "8444  Female  62.157304  128.958407\n",
       "6952  Female  65.096877  142.369715\n",
       "4888    Male  71.973693  205.856370\n",
       "108     Male  69.182203  171.983678\n",
       "6011  Female  66.261527  153.761022\n",
       "4704    Male  68.313258  175.226649\n",
       "...      ...        ...         ...\n",
       "8457  Female  63.825438  134.248057\n",
       "6319  Female  64.493943  127.704661\n",
       "7077  Female  65.219114  138.569995\n",
       "2974    Male  60.267190  132.948179\n",
       "6940  Female  62.414768  137.053634\n",
       "6094  Female  63.957309  127.444970\n",
       "660     Male  68.465724  188.079276\n",
       "3524    Male  66.145868  202.130274\n",
       "7358  Female  67.679872  175.012800\n",
       "8963  Female  64.334788  161.746797\n",
       "8624  Female  67.520343  158.209688\n",
       "2479    Male  72.372066  199.376235\n",
       "2785    Male  67.143510  165.143924\n",
       "1302    Male  70.984071  192.111320\n",
       "1630    Male  71.471387  192.929107\n",
       "1819    Male  72.337569  216.713478\n",
       "1167    Male  72.300308  194.723253\n",
       "6750  Female  63.924728  139.653461\n",
       "6830  Female  60.398516  126.983077\n",
       "7370  Female  64.633795  138.146125\n",
       "7012  Female  61.844966  110.981626\n",
       "9798  Female  62.743478  138.557942\n",
       "9090  Female  62.309015  134.097307\n",
       "640     Male  70.862688  209.759114\n",
       "2258    Male  68.536583  181.295256\n",
       "3240    Male  66.811802  179.537042\n",
       "5768  Female  62.183982  131.659119\n",
       "229     Male  71.848435  218.157469\n",
       "8070  Female  65.061414  131.588929\n",
       "5819  Female  62.803233  126.010566\n",
       "\n",
       "[300 rows x 3 columns]"
      ]
     },
     "execution_count": 9,
     "metadata": {},
     "output_type": "execute_result"
    }
   ],
   "source": [
    "df[mask]"
   ]
  },
  {
   "cell_type": "markdown",
   "metadata": {},
   "source": [
    "## Logistic regression\n",
    "\n",
    "\n",
    "$$\n",
    "\\renewcommand{\\like}{{\\cal L}}\n",
    "\\renewcommand{\\loglike}{{\\ell}}\n",
    "\\renewcommand{\\err}{{\\cal E}}\n",
    "\\renewcommand{\\dat}{{\\cal D}}\n",
    "\\renewcommand{\\hyp}{{\\cal H}}\n",
    "\\renewcommand{\\Ex}[2]{E_{#1}[#2]}\n",
    "\\renewcommand{\\x}{{\\mathbf x}}\n",
    "\\renewcommand{\\v}[1]{{\\mathbf #1}}\n",
    "$$\n",
    "\n",
    "\n",
    "Previously, we saw the loss for Logistic regression and noted that it is a loss for probability estimation...and not a loss for making decisions. We'll go into these dual losses soon..\n",
    "\n",
    "$$R_{\\cal{D}}(h(x)) = -\\loglike = -log \\like = - log(P(y|\\v{x},\\v{w})).$$\n",
    "\n",
    "\n",
    "Thus\n",
    "\n",
    "\\begin{eqnarray*}\n",
    "R_{\\cal{D}}(h(x)) &=& -log\\left(\\prod_{y_i \\in \\cal{D}} h(\\v{w}\\cdot\\v{x_i})^{y_i} \\left(1 - h(\\v{w}\\cdot\\v{x_i}) \\right)^{(1-y_i)}\\right)\\\\\n",
    "                  &=& -\\sum_{y_i \\in \\cal{D}} log\\left(h(\\v{w}\\cdot\\v{x_i})^{y_i} \\left(1 - h(\\v{w}\\cdot\\v{x_i}) \\right)^{(1-y_i)}\\right)\\\\                  \n",
    "                  &=& -\\sum_{y_i \\in \\cal{D}} log\\,h(\\v{w}\\cdot\\v{x_i})^{y_i} + log\\,\\left(1 - h(\\v{w}\\cdot\\v{x_i}) \\right)^{(1-y_i)}\\\\\n",
    "                  &=& - \\sum_{y_i \\in \\cal{D}} \\left ( y_i log(h(\\v{w}\\cdot\\v{x})) + ( 1 - y_i) log(1 - h(\\v{w}\\cdot\\v{x})) \\right )\n",
    "\\end{eqnarray*}\n",
    "\n",
    "where\n",
    "\n",
    "$$h(z) = \\frac{1}{1 + e^{-z}}.$$\n",
    "\n"
   ]
  },
  {
   "cell_type": "markdown",
   "metadata": {},
   "source": [
    "Notice that its L2 regularized.... by default"
   ]
  },
  {
   "cell_type": "code",
   "execution_count": 12,
   "metadata": {},
   "outputs": [
    {
     "data": {
      "text/plain": [
       "pandas.core.frame.DataFrame"
      ]
     },
     "execution_count": 12,
     "metadata": {},
     "output_type": "execute_result"
    }
   ],
   "source": [
    "dfpredictors = df[['Height', 'Weight']]"
   ]
  },
  {
   "cell_type": "code",
   "execution_count": 18,
   "metadata": {},
   "outputs": [],
   "source": [
    "from sklearn.linear_model import LogisticRegression\n",
    "lr = LogisticRegression()\n",
    "dfpredictors = df[['Height', 'Weight']]\n",
    "response = (df['Gender']=='Male')*1\n",
    "dftrain, dftest = dfpredictors[mask], dfpredictors[~mask]\n",
    "resptrain, resptest = response[mask], response[~mask]"
   ]
  },
  {
   "cell_type": "code",
   "execution_count": 19,
   "metadata": {},
   "outputs": [
    {
     "data": {
      "text/plain": [
       "(0.9266666666666666, 0.935)"
      ]
     },
     "execution_count": 19,
     "metadata": {},
     "output_type": "execute_result"
    }
   ],
   "source": [
    "lr.fit(dftrain, resptrain)\n",
    "lr.score(dftrain, resptrain), lr.score(dftest, resptest)"
   ]
  },
  {
   "cell_type": "code",
   "execution_count": 27,
   "metadata": {},
   "outputs": [
    {
     "data": {
      "text/plain": [
       "0.55"
      ]
     },
     "execution_count": 27,
     "metadata": {},
     "output_type": "execute_result"
    }
   ],
   "source": [
    "lr.predict_proba(dftest)\n",
    "np.sum(lr.predict_proba(dftest), axis = 1)\n",
    "np.mean(lr.predict_proba(dftest)[:,1] >= 0.5)"
   ]
  },
  {
   "cell_type": "code",
   "execution_count": 21,
   "metadata": {},
   "outputs": [
    {
     "data": {
      "text/plain": [
       "0.935"
      ]
     },
     "execution_count": 21,
     "metadata": {},
     "output_type": "execute_result"
    }
   ],
   "source": [
    "from sklearn.metrics import accuracy_score\n",
    "accuracy_score(resptest, lr.predict(dftest))"
   ]
  },
  {
   "cell_type": "code",
   "execution_count": 28,
   "metadata": {
    "collapsed": false
   },
   "outputs": [
    {
     "name": "stdout",
     "output_type": "stream",
     "text": [
      "using mask\n",
      "BEST {'C': 0.01} 0.9233333333333333\n",
      "############# based on standard predict ################\n",
      "Accuracy on training data: 0.92\n",
      "Accuracy on test data:     0.93\n",
      "[[ 82   7]\n",
      " [  7 104]]\n",
      "########################################################\n"
     ]
    }
   ],
   "source": [
    "from sklearn.linear_model import LogisticRegression\n",
    "parameters = {\"C\": [0.001, 0.01, 0.1, 1, 10, 100, 1000, 10000]}\n",
    "clflog = LogisticRegression(solver='lbfgs')\n",
    "clflog, Xtrain, ytrain, Xtest, ytest=do_classify(clflog, parameters, df, ['Height','Weight'],'Gender', \"Male\", mode=\"mask\", reuse_split=mask)"
   ]
  },
  {
   "cell_type": "markdown",
   "metadata": {},
   "source": [
    "In `sklearn`, `clf.predict(test_data)` makes predictions on the assumption that a 0.5 probability threshold is the appropriate thing to do. Make predictions on the test set"
   ]
  },
  {
   "cell_type": "code",
   "execution_count": 11,
   "metadata": {
    "collapsed": false
   },
   "outputs": [],
   "source": [
    "# your code here\n"
   ]
  },
  {
   "cell_type": "markdown",
   "metadata": {},
   "source": [
    "In `sklearn`, `predict_proba` gives us the probabilities. Find the probabilities on the test set."
   ]
  },
  {
   "cell_type": "code",
   "execution_count": 29,
   "metadata": {
    "collapsed": false
   },
   "outputs": [
    {
     "data": {
      "text/plain": [
       "array([[6.58710713e-02, 9.34128929e-01],\n",
       "       [5.85712242e-01, 4.14287758e-01],\n",
       "       [1.04130335e-02, 9.89586967e-01],\n",
       "       [9.20616851e-01, 7.93831491e-02],\n",
       "       [2.07786965e-02, 9.79221303e-01],\n",
       "       [8.97191768e-01, 1.02808232e-01],\n",
       "       [9.69851435e-01, 3.01485655e-02],\n",
       "       [2.64887480e-02, 9.73511252e-01],\n",
       "       [3.33546434e-01, 6.66453566e-01],\n",
       "       [9.87873954e-01, 1.21260464e-02],\n",
       "       [7.31150850e-01, 2.68849150e-01],\n",
       "       [1.08462425e-01, 8.91537575e-01],\n",
       "       [9.89115939e-01, 1.08840610e-02],\n",
       "       [3.21816400e-01, 6.78183600e-01],\n",
       "       [1.19903888e-01, 8.80096112e-01],\n",
       "       [3.53812591e-04, 9.99646187e-01],\n",
       "       [6.78402912e-03, 9.93215971e-01],\n",
       "       [9.96849154e-01, 3.15084612e-03],\n",
       "       [3.23076868e-02, 9.67692313e-01],\n",
       "       [8.98057021e-03, 9.91019430e-01],\n",
       "       [9.15900569e-03, 9.90840994e-01],\n",
       "       [9.62471437e-01, 3.75285625e-02],\n",
       "       [3.93632869e-01, 6.06367131e-01],\n",
       "       [1.04888113e-03, 9.98951119e-01],\n",
       "       [9.73705288e-01, 2.62947120e-02],\n",
       "       [5.59037791e-02, 9.44096221e-01],\n",
       "       [9.94123375e-01, 5.87662513e-03],\n",
       "       [3.18618143e-02, 9.68138186e-01],\n",
       "       [9.25876870e-03, 9.90741231e-01],\n",
       "       [1.33937303e-01, 8.66062697e-01],\n",
       "       [2.31074773e-01, 7.68925227e-01],\n",
       "       [9.71025175e-01, 2.89748248e-02],\n",
       "       [3.12038043e-03, 9.96879620e-01],\n",
       "       [5.10701264e-02, 9.48929874e-01],\n",
       "       [5.88097306e-01, 4.11902694e-01],\n",
       "       [9.64910463e-01, 3.50895368e-02],\n",
       "       [4.02554754e-03, 9.95974452e-01],\n",
       "       [5.24953415e-02, 9.47504658e-01],\n",
       "       [3.70989029e-05, 9.99962901e-01],\n",
       "       [6.59185125e-02, 9.34081488e-01],\n",
       "       [9.95346110e-01, 4.65389033e-03],\n",
       "       [4.71513243e-02, 9.52848676e-01],\n",
       "       [1.22263437e-03, 9.98777366e-01],\n",
       "       [7.20195041e-01, 2.79804959e-01],\n",
       "       [9.00731639e-01, 9.92683611e-02],\n",
       "       [9.94046528e-01, 5.95347182e-03],\n",
       "       [2.53007726e-01, 7.46992274e-01],\n",
       "       [9.57856447e-01, 4.21435532e-02],\n",
       "       [9.98480921e-01, 1.51907872e-03],\n",
       "       [4.36755291e-02, 9.56324471e-01],\n",
       "       [9.73585279e-01, 2.64147208e-02],\n",
       "       [7.12489198e-02, 9.28751080e-01],\n",
       "       [3.05433411e-03, 9.96945666e-01],\n",
       "       [2.05409659e-02, 9.79459034e-01],\n",
       "       [9.95919778e-01, 4.08022223e-03],\n",
       "       [7.03219404e-04, 9.99296781e-01],\n",
       "       [3.83883077e-01, 6.16116923e-01],\n",
       "       [1.76084544e-02, 9.82391546e-01],\n",
       "       [7.63221900e-01, 2.36778100e-01],\n",
       "       [3.62277210e-01, 6.37722790e-01],\n",
       "       [3.63625415e-02, 9.63637459e-01],\n",
       "       [3.51410738e-03, 9.96485893e-01],\n",
       "       [8.02973946e-01, 1.97026054e-01],\n",
       "       [3.45429682e-01, 6.54570318e-01],\n",
       "       [1.26081148e-04, 9.99873919e-01],\n",
       "       [9.98736231e-01, 1.26376871e-03],\n",
       "       [8.52959739e-01, 1.47040261e-01],\n",
       "       [9.10619816e-01, 8.93801839e-02],\n",
       "       [9.94270235e-01, 5.72976487e-03],\n",
       "       [1.06170843e-01, 8.93829157e-01],\n",
       "       [1.42658940e-01, 8.57341060e-01],\n",
       "       [9.98856728e-01, 1.14327247e-03],\n",
       "       [9.52692401e-03, 9.90473076e-01],\n",
       "       [9.38014030e-04, 9.99061986e-01],\n",
       "       [6.23712979e-01, 3.76287021e-01],\n",
       "       [9.98576804e-01, 1.42319635e-03],\n",
       "       [9.99890183e-01, 1.09817401e-04],\n",
       "       [2.87137440e-01, 7.12862560e-01],\n",
       "       [9.95401000e-01, 4.59899989e-03],\n",
       "       [1.88132993e-04, 9.99811867e-01],\n",
       "       [9.29978720e-01, 7.00212800e-02],\n",
       "       [9.85046622e-01, 1.49533776e-02],\n",
       "       [9.91435721e-01, 8.56427867e-03],\n",
       "       [8.16351137e-04, 9.99183649e-01],\n",
       "       [3.81280728e-03, 9.96187193e-01],\n",
       "       [7.44419329e-02, 9.25558067e-01],\n",
       "       [8.36416135e-03, 9.91635839e-01],\n",
       "       [1.48103948e-02, 9.85189605e-01],\n",
       "       [3.90771705e-02, 9.60922829e-01],\n",
       "       [1.68498906e-02, 9.83150109e-01],\n",
       "       [9.95105593e-01, 4.89440723e-03],\n",
       "       [9.69274202e-01, 3.07257977e-02],\n",
       "       [4.44682837e-02, 9.55531716e-01],\n",
       "       [7.96768292e-03, 9.92032317e-01],\n",
       "       [9.98598030e-01, 1.40197043e-03],\n",
       "       [4.99461475e-04, 9.99500539e-01],\n",
       "       [9.18304593e-01, 8.16954067e-02],\n",
       "       [9.97406532e-01, 2.59346769e-03],\n",
       "       [9.97037834e-01, 2.96216592e-03],\n",
       "       [9.46394488e-01, 5.36055116e-02],\n",
       "       [3.81238549e-02, 9.61876145e-01],\n",
       "       [5.79976909e-03, 9.94200231e-01],\n",
       "       [1.95210055e-04, 9.99804790e-01],\n",
       "       [7.42985595e-01, 2.57014405e-01],\n",
       "       [9.68532059e-01, 3.14679412e-02],\n",
       "       [2.91684021e-03, 9.97083160e-01],\n",
       "       [1.49646424e-01, 8.50353576e-01],\n",
       "       [9.54311092e-01, 4.56889080e-02],\n",
       "       [4.77473102e-04, 9.99522527e-01],\n",
       "       [9.76019139e-01, 2.39808611e-02],\n",
       "       [9.99910424e-01, 8.95762029e-05],\n",
       "       [8.67327831e-01, 1.32672169e-01],\n",
       "       [8.61112736e-01, 1.38887264e-01],\n",
       "       [4.19346604e-04, 9.99580653e-01],\n",
       "       [9.81037585e-01, 1.89624146e-02],\n",
       "       [9.96823992e-01, 3.17600823e-03],\n",
       "       [9.99904711e-01, 9.52889288e-05],\n",
       "       [1.57505340e-01, 8.42494660e-01],\n",
       "       [7.49694232e-02, 9.25030577e-01],\n",
       "       [9.86204112e-01, 1.37958879e-02],\n",
       "       [4.97994431e-04, 9.99502006e-01],\n",
       "       [4.29736766e-01, 5.70263234e-01],\n",
       "       [1.79914235e-04, 9.99820086e-01],\n",
       "       [9.95626503e-03, 9.90043735e-01],\n",
       "       [9.83262229e-01, 1.67377711e-02],\n",
       "       [5.34358168e-02, 9.46564183e-01],\n",
       "       [9.98708197e-01, 1.29180274e-03],\n",
       "       [4.72637515e-02, 9.52736249e-01],\n",
       "       [9.93443354e-01, 6.55664560e-03],\n",
       "       [5.46739538e-02, 9.45326046e-01],\n",
       "       [4.67906495e-01, 5.32093505e-01],\n",
       "       [4.24566298e-02, 9.57543370e-01],\n",
       "       [6.60026485e-02, 9.33997351e-01],\n",
       "       [1.27891669e-01, 8.72108331e-01],\n",
       "       [6.40022084e-03, 9.93599779e-01],\n",
       "       [3.78333091e-03, 9.96216669e-01],\n",
       "       [5.62413187e-01, 4.37586813e-01],\n",
       "       [6.87547163e-02, 9.31245284e-01],\n",
       "       [8.73141456e-01, 1.26858544e-01],\n",
       "       [9.99987456e-01, 1.25437757e-05],\n",
       "       [9.63811106e-01, 3.61888941e-02],\n",
       "       [1.71603185e-04, 9.99828397e-01],\n",
       "       [3.28454852e-02, 9.67154515e-01],\n",
       "       [2.01097514e-02, 9.79890249e-01],\n",
       "       [1.75890659e-02, 9.82410934e-01],\n",
       "       [1.27664884e-03, 9.98723351e-01],\n",
       "       [8.49658261e-01, 1.50341739e-01],\n",
       "       [2.07793184e-01, 7.92206816e-01],\n",
       "       [9.99965249e-01, 3.47508160e-05],\n",
       "       [2.02001592e-01, 7.97998408e-01],\n",
       "       [1.07001122e-03, 9.98929989e-01],\n",
       "       [2.54348249e-02, 9.74565175e-01],\n",
       "       [6.51969871e-02, 9.34803013e-01],\n",
       "       [1.19516634e-03, 9.98804834e-01],\n",
       "       [9.82217451e-01, 1.77825488e-02],\n",
       "       [7.02385603e-01, 2.97614397e-01],\n",
       "       [7.75368952e-01, 2.24631048e-01],\n",
       "       [2.58359957e-01, 7.41640043e-01],\n",
       "       [2.16764822e-02, 9.78323518e-01],\n",
       "       [9.99705179e-01, 2.94821494e-04],\n",
       "       [9.99430382e-01, 5.69617525e-04],\n",
       "       [7.95941154e-01, 2.04058846e-01],\n",
       "       [7.11299557e-01, 2.88700443e-01],\n",
       "       [9.62884418e-01, 3.71155817e-02],\n",
       "       [4.93619318e-01, 5.06380682e-01],\n",
       "       [9.87413460e-01, 1.25865397e-02],\n",
       "       [9.75954109e-01, 2.40458910e-02],\n",
       "       [2.76209296e-02, 9.72379070e-01],\n",
       "       [9.95652489e-01, 4.34751073e-03],\n",
       "       [9.69417086e-01, 3.05829135e-02],\n",
       "       [9.95227493e-01, 4.77250750e-03],\n",
       "       [2.12559175e-02, 9.78744082e-01],\n",
       "       [9.83416106e-01, 1.65838940e-02],\n",
       "       [9.99876892e-01, 1.23107613e-04],\n",
       "       [9.88066608e-01, 1.19333918e-02],\n",
       "       [4.34993476e-02, 9.56500652e-01],\n",
       "       [2.34580802e-01, 7.65419198e-01],\n",
       "       [7.03745581e-01, 2.96254419e-01],\n",
       "       [9.00547532e-01, 9.94524684e-02],\n",
       "       [7.43315405e-02, 9.25668460e-01],\n",
       "       [9.65602587e-02, 9.03439741e-01],\n",
       "       [6.10623775e-02, 9.38937623e-01],\n",
       "       [9.90694070e-01, 9.30592954e-03],\n",
       "       [9.97556938e-01, 2.44306204e-03],\n",
       "       [8.10911852e-02, 9.18908815e-01],\n",
       "       [3.68886582e-02, 9.63111342e-01],\n",
       "       [1.15677362e-01, 8.84322638e-01],\n",
       "       [3.73354238e-02, 9.62664576e-01],\n",
       "       [7.50908027e-03, 9.92490920e-01],\n",
       "       [9.95950827e-01, 4.04917257e-03],\n",
       "       [9.11927912e-02, 9.08807209e-01],\n",
       "       [9.94389295e-01, 5.61070500e-03],\n",
       "       [9.95640804e-01, 4.35919634e-03],\n",
       "       [3.29123400e-03, 9.96708766e-01],\n",
       "       [9.79730228e-01, 2.02697724e-02],\n",
       "       [3.21940014e-01, 6.78059986e-01],\n",
       "       [7.57727942e-01, 2.42272058e-01],\n",
       "       [5.64204360e-04, 9.99435796e-01],\n",
       "       [8.62428529e-01, 1.37571471e-01],\n",
       "       [5.74705777e-03, 9.94252942e-01]])"
      ]
     },
     "execution_count": 29,
     "metadata": {},
     "output_type": "execute_result"
    }
   ],
   "source": [
    "clflog.predict_proba(Xtest)"
   ]
  },
  {
   "cell_type": "markdown",
   "metadata": {},
   "source": [
    "What do these probabilities correspond to? The second column (`[:,1]` in numpy parlance, google numpy indexing to understand the syntax) gives the probability that the sample is a 1 (or +ive), here Male.\n",
    "\n",
    "Make a histogram of these probabilities. Interpret them."
   ]
  },
  {
   "cell_type": "code",
   "execution_count": 34,
   "metadata": {
    "collapsed": false
   },
   "outputs": [
    {
     "data": {
      "text/plain": [
       "(array([ 93.,  19.,   8.,   9.,   8.,   6.,   8.,  12.,  25., 112.]),\n",
       " array([2.02988375e-05, 1.00015401e-01, 2.00010502e-01, 3.00005604e-01,\n",
       "        4.00000706e-01, 4.99995808e-01, 5.99990909e-01, 6.99986011e-01,\n",
       "        7.99981113e-01, 8.99976215e-01, 9.99971317e-01]),\n",
       " <a list of 10 Patch objects>)"
      ]
     },
     "execution_count": 34,
     "metadata": {},
     "output_type": "execute_result"
    },
    {
     "data": {
      "image/png": "[encoded data removed]",
      "text/plain": [
       "<Figure size 432x288 with 1 Axes>"
      ]
     },
     "metadata": {},
     "output_type": "display_data"
    }
   ],
   "source": [
    "# your code here\n",
    "plt.hist(clflog.predict_proba(Xtrain)[:,0])"
   ]
  },
  {
   "cell_type": "markdown",
   "metadata": {},
   "source": [
    "Lots of sure females and sure males when you plot the probability of being a male. \n",
    "\n",
    "At this point you might want to see how this histogram looks in the 2 dimensional space of our predictors."
   ]
  },
  {
   "cell_type": "code",
   "execution_count": 30,
   "metadata": {
    "collapsed": false
   },
   "outputs": [
    {
     "data": {
      "image/png": "[encoded data removed]",
      "text/plain": [
       "<Figure size 432x288 with 1 Axes>"
      ]
     },
     "metadata": {},
     "output_type": "display_data"
    }
   ],
   "source": [
    "Xtr=np.concatenate((Xtrain, Xtest))\n",
    "plt.figure()\n",
    "ax=plt.gca()\n",
    "with sns.plotting_context('poster'):\n",
    "    points_plot(ax, Xtrain, Xtest, ytrain, ytest, clflog);"
   ]
  },
  {
   "cell_type": "markdown",
   "metadata": {},
   "source": [
    "We can plot the probability contours: these are rather tight!"
   ]
  },
  {
   "cell_type": "code",
   "execution_count": 32,
   "metadata": {
    "collapsed": false
   },
   "outputs": [
    {
     "name": "stderr",
     "output_type": "stream",
     "text": [
      "C:\\Users\\taija\\Anaconda3\\lib\\site-packages\\matplotlib\\contour.py:960: UserWarning: The following kwargs were not used by contour: 'axes'\n",
      "  s)\n",
      "C:\\Users\\taija\\Anaconda3\\lib\\site-packages\\matplotlib\\contour.py:960: UserWarning: The following kwargs were not used by contour: 'axes'\n",
      "  s)\n"
     ]
    },
    {
     "data": {
      "image/png": "[encoded data removed]",
      "text/plain": [
       "<Figure size 864x576 with 1 Axes>"
      ]
     },
     "metadata": {},
     "output_type": "display_data"
    }
   ],
   "source": [
    "plt.figure(figsize = (12,8))\n",
    "ax=plt.gca()\n",
    "points_plot(ax, Xtrain, Xtest, ytrain, ytest, clflog, mesh=False, alpha=0.001);\n",
    "points_plot_prob(ax, Xtrain, Xtest, ytrain, ytest, clflog);"
   ]
  },
  {
   "cell_type": "markdown",
   "metadata": {},
   "source": [
    "The score function of the estimator is used to evaluate a parameter setting. These are the sklearn.metrics.accuracy_score for classification and sklearn.metrics.r2_score for regression. For some applications, other scoring functions are better suited (for example in unbalanced classification, the accuracy score is often uninformative). We can pass other scorers to `GridSearchCV`."
   ]
  },
  {
   "cell_type": "code",
   "execution_count": 29,
   "metadata": {
    "collapsed": false
   },
   "outputs": [],
   "source": [
    "clflog.score(Xtest, ytest)"
   ]
  },
  {
   "cell_type": "markdown",
   "metadata": {},
   "source": [
    "### Callibration\n",
    "\n",
    "(from description by Chris Beaumont in CS109)\n",
    "\n",
    "Probabilistic models  have the nice property that they compute probabilities of a particular classification -- the predict_proba and predict_log_proba methods  compute these probabilities.\n",
    "\n",
    "You should always assess whether these probabilities are calibrated -- that is, whether a prediction made with a confidence of x% is correct approximately x% of the time.\n",
    "\n",
    "Let's make a plot to assess model calibration. Schematically, we want something like this:\n",
    "\n",
    "![](http://i.imgur.com/ea5B6zr.png)"
   ]
  },
  {
   "cell_type": "code",
   "execution_count": 33,
   "metadata": {},
   "outputs": [],
   "source": [
    "from sklearn.metrics import brier_score_loss\n",
    "from sklearn.calibration import  calibration_curve\n",
    "\n",
    "prob_pos = clflog.predict_proba(Xtest)[:, 1]\n",
    "fraction_of_positives, mean_predicted_value = \\\n",
    "            calibration_curve(ytest, prob_pos, n_bins=10)\n",
    "clf_score = brier_score_loss(ytest, prob_pos, pos_label=ytest.max())"
   ]
  },
  {
   "cell_type": "code",
   "execution_count": 34,
   "metadata": {},
   "outputs": [],
   "source": [
    "fraction_of_positives, mean_predicted_value"
   ]
  },
  {
   "cell_type": "code",
   "execution_count": 35,
   "metadata": {},
   "outputs": [],
   "source": [
    "fig = plt.figure(figsize=(10, 10))\n",
    "ax1 = plt.subplot2grid((3, 1), (0, 0), rowspan=2)\n",
    "ax2 = plt.subplot2grid((3, 1), (2, 0))\n",
    "ax1.plot(mean_predicted_value, fraction_of_positives, \"s-\",\n",
    "         label=\"(%1.3f)\" % (clf_score))\n",
    "ax1.plot([0,1], [0,1], \"k--\")\n",
    "ax2.hist(prob_pos, range=(0, 1), bins=10, label=\"logistic\",\n",
    "         histtype=\"step\", lw=2)\n",
    "\n",
    "ax1.set_ylabel(\"Fraction of positives\")\n",
    "ax1.set_ylim([-0.05, 1.05])\n",
    "ax1.legend(loc=\"lower right\")\n",
    "ax1.set_title('Calibration plots  (reliability curve)')\n",
    "\n",
    "ax2.set_xlabel(\"Mean predicted value\")\n",
    "ax2.set_ylabel(\"Count\")\n",
    "ax2.legend(loc=\"upper center\", ncol=2)\n",
    "\n",
    "plt.tight_layout()"
   ]
  },
  {
   "cell_type": "markdown",
   "metadata": {},
   "source": [
    "## The confusion Matrix"
   ]
  },
  {
   "cell_type": "markdown",
   "metadata": {},
   "source": [
    " A classifier will get some samples right, and some wrong. Generally we see which ones it gets right and which ones it gets wrong on the test set. There,\n",
    "\n",
    "- the samples that are +ive and the classifier predicts as +ive are called True Positives (TP)\n",
    "- the samples that are -ive and the classifier predicts (wrongly) as +ive are called False Positives (FP)\n",
    "- the samples that are -ive and the classifier predicts as -ive are called True Negatives (TN)\n",
    "- the samples that are +ive and the classifier predicts as -ive are called False Negatives (FN)\n",
    "\n",
    "A classifier produces a confusion matrix from these which lookslike this:\n",
    "\n",
    "![hwimages](./images/confusionmatrix.png)\n",
    "\n",
    "\n",
    "IMPORTANT NOTE: In sklearn, to obtain the confusion matrix in the form above, always have the observed `y` first, i.e.: use as `confusion_matrix(y_true, y_pred)`"
   ]
  },
  {
   "cell_type": "code",
   "execution_count": 35,
   "metadata": {
    "collapsed": false
   },
   "outputs": [
    {
     "data": {
      "text/plain": [
       "array([[ 82,   7],\n",
       "       [  7, 104]], dtype=int64)"
      ]
     },
     "execution_count": 35,
     "metadata": {},
     "output_type": "execute_result"
    }
   ],
   "source": [
    "confusion_matrix(ytest, clflog.predict(Xtest))"
   ]
  },
  {
   "cell_type": "markdown",
   "metadata": {},
   "source": [
    "Given these definitions, we typically calculate a few metrics for our classifier. First, the **True Positive Rate**:\n",
    "\n",
    "$$TPR = Recall = \\frac{TP}{OP} = \\frac{TP}{TP+FN},$$\n",
    "\n",
    "also called the Hit Rate: the fraction of observed positives (1s) the classifier gets right, or how many true positives were recalled. Maximizing the recall towards 1 means keeping down the false negative rate. In a classifier try to find cancer patients, this is the number we want to maximize.\n",
    "\n",
    "The **False Positive Rate** is defined as\n",
    "\n",
    "$$FPR = \\frac{FP}{ON} = \\frac{FP}{FP+TN},$$\n",
    "\n",
    "also called the False Alarm Rate, the fraction of observed negatives (0s) the classifier gets wrong. In general, you want this number to be low. Instead, you might want to maximize the\n",
    "**Precision**,which tells you how many of the predicted positive(1) hits were truly positive\n",
    "\n",
    "$$Precision = \\frac{TP}{PP} = \\frac{TP}{TP+FP}.$$\n",
    "\n",
    "Finally the **F1** score gives us the Harmonic Score of Precision and Recall. Many analysts will try and find a classifier that maximizes this score, since it tries to minimize both false positives and false negatives simultaneously, and is thus a bit more precise in what it is trying to do than the accuracy.\n",
    "\n",
    "$$F1 =  \\frac{2*Recall*Precision}{Recall + Precision}$$\n",
    "\n",
    "However, in a case like that of a cancer classifier, we will wish to minimize false nagatives at the expense of false positives: it is ok to send perfectly healthy patients for cancer folloup if that is the price we must pay for not missing any sick ones.\n",
    "\n",
    "`scikit-learn` helpfully gives us a classification report with all these numbers"
   ]
  },
  {
   "cell_type": "code",
   "execution_count": 36,
   "metadata": {
    "collapsed": false
   },
   "outputs": [
    {
     "name": "stdout",
     "output_type": "stream",
     "text": [
      "             precision    recall  f1-score   support\n",
      "\n",
      "          0       0.92      0.92      0.92        89\n",
      "          1       0.94      0.94      0.94       111\n",
      "\n",
      "avg / total       0.93      0.93      0.93       200\n",
      "\n"
     ]
    }
   ],
   "source": [
    "from sklearn.metrics import classification_report\n",
    "print(classification_report(ytest, clflog.predict(Xtest)))"
   ]
  },
  {
   "cell_type": "markdown",
   "metadata": {},
   "source": [
    "#### The cancer doctor\n",
    "\n",
    "Do you really want to be setting a threshold of 0.5 probability to predict if a patient has cancer or not? The false negative problem: ie the chance you predict someone dosent have cancer who has cancer is much higher for such a threshold. You could kill someone by telling them not to get a biopsy. Why not play it safe and assume a much lower threshold: for eg, if the probability of 1(cancer) is greater than 0.05, we'll call it a 1.\n",
    "\n",
    "Write a function `t_repredict(est,t, Xtest)` which takes your classifier, a probability threshold, and a  features set in the canonical form, and returns a set of predictions."
   ]
  },
  {
   "cell_type": "raw",
   "metadata": {},
   "source": [
    "clflog.predict_proba(Xtest)"
   ]
  },
  {
   "cell_type": "code",
   "execution_count": 46,
   "metadata": {
    "collapsed": true
   },
   "outputs": [],
   "source": [
    "# your code here\n",
    "def t_repredict(est, t, Xtest):\n",
    "    probs = est.predict_proba(Xtest)[:,0]\n",
    "    return 1*(probs >= t)"
   ]
  },
  {
   "cell_type": "code",
   "execution_count": 47,
   "metadata": {},
   "outputs": [
    {
     "data": {
      "text/plain": [
       "array([0, 1, 0, 1, 0, 1, 1, 0, 1, 1, 1, 0, 1, 1, 0, 0, 0, 1, 0, 0, 0, 1,\n",
       "       1, 0, 1, 0, 1, 0, 0, 0, 0, 1, 0, 0, 1, 1, 0, 0, 0, 0, 1, 0, 0, 1,\n",
       "       1, 1, 0, 1, 1, 0, 1, 0, 0, 0, 1, 0, 1, 0, 1, 1, 0, 0, 1, 1, 0, 1,\n",
       "       1, 1, 1, 0, 0, 1, 0, 0, 1, 1, 1, 0, 1, 0, 1, 1, 1, 0, 0, 0, 0, 0,\n",
       "       0, 0, 1, 1, 0, 0, 1, 0, 1, 1, 1, 1, 0, 0, 0, 1, 1, 0, 0, 1, 0, 1,\n",
       "       1, 1, 1, 0, 1, 1, 1, 0, 0, 1, 0, 1, 0, 0, 1, 0, 1, 0, 1, 0, 1, 0,\n",
       "       0, 0, 0, 0, 1, 0, 1, 1, 1, 0, 0, 0, 0, 0, 1, 0, 1, 0, 0, 0, 0, 0,\n",
       "       1, 1, 1, 0, 0, 1, 1, 1, 1, 1, 1, 1, 1, 0, 1, 1, 1, 0, 1, 1, 1, 0,\n",
       "       0, 1, 1, 0, 0, 0, 1, 1, 0, 0, 0, 0, 0, 1, 0, 1, 1, 0, 1, 1, 1, 0,\n",
       "       1, 0])"
      ]
     },
     "execution_count": 47,
     "metadata": {},
     "output_type": "execute_result"
    }
   ],
   "source": [
    "t_repredict(clflog, 0.3, Xtest)"
   ]
  },
  {
   "cell_type": "markdown",
   "metadata": {},
   "source": [
    "Print the confusion matrix to see how the false negatives get suppressed?"
   ]
  },
  {
   "cell_type": "code",
   "execution_count": 52,
   "metadata": {
    "collapsed": false
   },
   "outputs": [
    {
     "data": {
      "text/plain": [
       "array([[ 23,  66],\n",
       "       [110,   1]], dtype=int64)"
      ]
     },
     "execution_count": 52,
     "metadata": {},
     "output_type": "execute_result"
    }
   ],
   "source": [
    "# your code here\n",
    "confusion_matrix(ytest, t_repredict(clflog, 0.9, Xtest))"
   ]
  },
  {
   "cell_type": "markdown",
   "metadata": {},
   "source": [
    "## ROC Curve\n",
    "\n",
    "The images in this section are from Provost, Foster; Fawcett, Tom (2013-07-27). Data Science for Business: What you need to know about data mining and data-analytic thinking  O'Reilly Media. Great book!\n",
    "\n",
    "We can check on the thresholds we talked about in the previous section and compare our classifiers to each other and the baseline models using the ROC curves you learned about in class. \n",
    "\n",
    "Remember that ROC curves are actually a set of classifiers, in which we move the threshold for classifying a sample as positive from 1 to 0. Each point on a ROC curve is a separate classifier obtained by considering a different threshold. (In the standard scenario, where we used the  classifier accuracy, this threshold is implicitly set at 0.5, and we have only one classifier).\n",
    "\n",
    "![m:roc curve](images/roc-curve.png)\n",
    "\n",
    "The way ROC curves are calulated is this. We start with a large threshold, something like 0.99 or so. This means that only samples with a probability of being positive higher than that threshold are classified as positive. That is the really really really positive ones! The idea then is to decrease this threshold, such that more and more samples get classified as positive.\n",
    "\n",
    "![howto roc](images/howtoroc.png)\n",
    "\n",
    "The practical way to do this is to order the samples by probability of being positive, or in the case of the SVM, by the `decision_function` or distance from the separating hyperplane. Then consider the sample with the highest score or highest probability of being positive. At first, only this sample is positive. Then, we take the sample with the next highest score, and call it positive. As we go down the list, we go down a threshold in score or probability. \n",
    "\n",
    "Now, for each such situation: only 1 positive, now 2 positive,....you can imagine a different classifier with a different confusion matrix. It will have its own false positives, tre positives, etc. Its actually the same original classifier, but with a different threshold each time.\n",
    "\n",
    "As we keep going down the list, decreasing the threshold, more and more samples become positive, and at first, the true positives rise faster than the false positives. Once past a certain point, false positives increase faster than true positives. Now, if you want a balanced classifier, you look at this turn-around point...the northwest corner, so to speak. But if you want a classifier which penalizes false positives and false negatives differently, the point you want is different.\n",
    "\n",
    "Here is the confusion matrix again:\n",
    "\n",
    "![hwimages](./images/confusionmatrix.png)\n",
    "\n",
    "\n",
    "To make a ROC curve you plot the True Positive Rate, \n",
    "\n",
    "$$TPR=\\frac{TP}{OP}$$\n",
    "\n",
    "against the False Positive Rate,\n",
    "\n",
    "$$FPR=\\frac{FP}{ON}$$\n",
    "\n",
    "as you go through this process of going down the list of samples. ROC curves are useful because they calculate one classifier per threshold and show you where you are in TPR/FPR space without making any assumptions about the utility matrix or which threshold is appropriate.\n",
    "\n",
    "Notice that the ROC curve has a very interesting property: if you look at the confusion matrix above, TPR is only calculated from the observed \"1\" row while FPR is calculated from the observed '0' row. This means that the ROC curve is independent of the class balance/imbalance on the test set, and thus works for all ratios of positive to negative samples. The balance picks a point on the curve, as you can read below.\n",
    "\n",
    "A rote reading of the ROC curve (go to the \"northwest\" corner) is a bad idea: you must fold in the curve with any assumptions you are making about costs. More on this in the next lab. Still, on the whole, a curve with a greater AUC (area under curve), or further away from the line of randomness, will give us a rough idea of what might be a better classifier.\n",
    "\n"
   ]
  },
  {
   "cell_type": "code",
   "execution_count": 37,
   "metadata": {},
   "outputs": [],
   "source": [
    "def make_roc(name, clf, ytest, xtest, ax=None, labe=5, proba=True, skip=0):\n",
    "    initial=False\n",
    "    if not ax:\n",
    "        ax=plt.gca()\n",
    "        initial=True\n",
    "    if proba:\n",
    "        fpr, tpr, thresholds=roc_curve(ytest, clf.predict_proba(xtest)[:,1])\n",
    "    else:\n",
    "        fpr, tpr, thresholds=roc_curve(ytest, clf.decision_function(xtest))\n",
    "    roc_auc = auc(fpr, tpr)\n",
    "    if skip:\n",
    "        l=fpr.shape[0]\n",
    "        ax.plot(fpr[0:l:skip], tpr[0:l:skip], '.-', alpha=0.3, label='ROC curve for %s (area = %0.2f)' % (name, roc_auc))\n",
    "    else:\n",
    "        ax.plot(fpr, tpr, '.-', alpha=0.3, label='ROC curve for %s (area = %0.2f)' % (name, roc_auc))\n",
    "    label_kwargs = {}\n",
    "    label_kwargs['bbox'] = dict(\n",
    "        boxstyle='round,pad=0.3', alpha=0.2,\n",
    "    )\n",
    "    for k in range(0, fpr.shape[0],labe):\n",
    "        #from https://gist.github.com/podshumok/c1d1c9394335d86255b8\n",
    "        threshold = str(np.round(thresholds[k], 2))\n",
    "        ax.annotate(threshold, (fpr[k], tpr[k]), **label_kwargs)\n",
    "    if initial:\n",
    "        ax.plot([0, 1], [0, 1], 'k--')\n",
    "        ax.set_xlim([0.0, 1.0])\n",
    "        ax.set_ylim([0.0, 1.05])\n",
    "        ax.set_xlabel('False Positive Rate')\n",
    "        ax.set_ylabel('True Positive Rate')\n",
    "        ax.set_title('ROC')\n",
    "    ax.legend(loc=\"lower right\")\n",
    "    return ax"
   ]
  },
  {
   "cell_type": "code",
   "execution_count": 38,
   "metadata": {},
   "outputs": [],
   "source": [
    "with sns.plotting_context('poster'):\n",
    "    from sklearn.metrics import roc_curve, auc\n",
    "    ax=make_roc(\"logistic\", clflog, ytest, Xtest, labe=6)"
   ]
  },
  {
   "cell_type": "markdown",
   "metadata": {},
   "source": [
    "## Decision Making\n",
    "\n",
    "So far we have just been reporting accuracies. But as in the cancer doctor case, many a time we'll actually want to use a classifier to make decisions.\n",
    "\n",
    "The accuracy itself is NOT the loss that went into estimating the parameters of the model in the logistic regression. We are only using it as an **estimation loss** or a **evaluation metric**. \n",
    "\n",
    "The loss correponding to the accuracy metric is:\n",
    "\n",
    "The 1-0 loss:\n",
    "\n",
    "$$l = \\mathbf{1}_{h \\ne y}.$$\n",
    "\n",
    "where $h$ is the classification **decision** we make (for regression we used $l = (h-y)^2$). The symbol $\\mathbf{1}$ means that if $h$ is not equal to the \"true\" value of the point $y$, penalize by 1. Then the risk is:\n",
    "\n",
    "$$ R_{\\cal{D}}(h(x)) = \\frac{1}{N} \\sum_{y_i \\in \\cal{D}} l = \\frac{1}{N} \\sum_{y_i \\in \\cal{D}} \\mathbf{1}_{h \\ne y_i} $$\n",
    "\n",
    "Thus if 5 out of 50 samples are misclassified, then the risk is 0.1. This of course means that 90% of the samples are correctly classified. This number is called the **accuracy score** or **utility**:\n",
    "\n",
    "$$ U_{\\cal{D}}(h(x))  = \\frac{1}{N} \\sum_{y_i \\in \\cal{D}} \\mathbf{1}_{h = y_i} $$\n",
    "\n",
    "`sklearn` allows us to use another scorer by choosing an appropriate scoring function in our cross-validation metric."
   ]
  }
 ],
 "metadata": {
  "kernelspec": {
   "display_name": "Python 3",
   "language": "python",
   "name": "python3"
  },
  "language_info": {
   "codemirror_mode": {
    "name": "ipython",
    "version": 3
   },
   "file_extension": ".py",
   "mimetype": "text/x-python",
   "name": "python",
   "nbconvert_exporter": "python",
   "pygments_lexer": "ipython3",
   "version": "3.6.5"
  }
 },
 "nbformat": 4,
 "nbformat_minor": 2
}
